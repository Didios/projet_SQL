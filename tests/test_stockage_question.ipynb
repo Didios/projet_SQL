{
  "cells": [
    {
      "cell_type": "code",
      "source": [
        "#Importer de test_acces\n",
        "\n",
        "import os.path\n",
        "\n",
        "def fichier_existe(path, file = \"\"):\n",
        "  \"\"\"\n",
        "  fonction permettant de connaitre l'existence d'un répertoire ou d'un fichier\n",
        "  parametres:\n",
        "             path, le chemin vers le répertoire souhaité sous forme de chaine de caracteres\n",
        "             file, optionnel, le nom du fichier pour lequel vérifier l'existence dans path\n",
        "  renvoie un booléen, True si le répertoire/fichier existe et False sinon\n",
        "  \"\"\"\n",
        "  if os.path.isdir(path):\n",
        "    if file == \"\" or os.path.isfile(path + \"/\" + file):\n",
        "      return True\n",
        "    else:\n",
        "      return False\n",
        "  else:\n",
        "    return False\n",
        "  \n",
        "def lire_fichier(path, file):\n",
        "  if fichier_existe(path, file):\n",
        "    f = open(path + \"/\" + file).readlines()\n",
        "    return f"
      ],
      "outputs": [],
      "execution_count": 1,
      "metadata": {
        "collapsed": true,
        "jupyter": {
          "source_hidden": false,
          "outputs_hidden": false
        },
        "nteract": {
          "transient": {
            "deleting": false
          }
        },
        "execution": {
          "shell.execute_reply": "2021-02-15T09:28:41.484Z",
          "iopub.status.busy": "2021-02-15T09:28:41.426Z",
          "iopub.execute_input": "2021-02-15T09:28:41.443Z",
          "iopub.status.idle": "2021-02-15T09:28:41.469Z"
        }
      }
    },
    {
      "cell_type": "code",
      "source": [
        "def stockage(path, file):\n",
        "  \"\"\"\n",
        "  permet le stockage des questions, réponses et nom de fichier contenu dans un fichier\n",
        "  parametres:\n",
        "             path, une chaine de caracteres indiquant le chemin d'accès au dossier avec le fichier cible\n",
        "             file, une chaine de caracteres avec le nom du fichier cible\n",
        "  renvoie un dictionnaire avec toutes les informations des requetes\n",
        "  \"\"\"\n",
        "  contenu = lire_fichier(path, file)\n",
        "  requetes = {}\n",
        "  \n",
        "  l = 0\n",
        "  while l < len(contenu): #On enlève les sauts de ligne et les retours à la ligne\n",
        "    if contenu[l] == \"\\n\":\n",
        "      contenu = contenu[:l] + contenu[l+1:]\n",
        "    else:\n",
        "      contenu[l] = contenu[l][:-1]\n",
        "    l += 1\n",
        "    \n",
        "  i = 1\n",
        "  while i < len(contenu):\n",
        "    if contenu[i][0] == \"#\":\n",
        "      question = contenu[i][1:]\n",
        "      sql_file = contenu[i-1][:-1]\n",
        "      \n",
        "      numero = \"\"\n",
        "      k = 0\n",
        "      while question[k] in [\"0\", \"1\", \"2\", \"3\", \"4\", \"5\", \"6\", \"7\", \"8\", \"9\"]: # on détermine le numero de la question\n",
        "        numero += question[k]\n",
        "        k += 1\n",
        "        \n",
        "      reponse = \"\"\n",
        "      while i+2 < len(contenu) and contenu[i+2][0] != \"#\": # tant que l'on n'est pas juste avant la prochaine question, on est dans la réponse précédente\n",
        "        reponse += contenu[i+1] + \" \"\n",
        "        i += 1\n",
        "    i+=1\n",
        "    requetes[int(numero)] = [question, reponse, sql_file] # déterminer s'il faut la réponse écrite ou juste le fichier\n",
        "  return requetes    "
      ],
      "outputs": [],
      "execution_count": 6,
      "metadata": {
        "collapsed": true,
        "jupyter": {
          "source_hidden": false,
          "outputs_hidden": false
        },
        "nteract": {
          "transient": {
            "deleting": false
          }
        },
        "execution": {
          "iopub.status.busy": "2021-02-15T09:29:21.268Z",
          "iopub.execute_input": "2021-02-15T09:29:21.292Z",
          "iopub.status.idle": "2021-02-15T09:29:21.330Z",
          "shell.execute_reply": "2021-02-15T09:29:21.350Z"
        }
      }
    },
    {
      "cell_type": "code",
      "source": [
        "dictionnaire = stockage(\"requetes\", \"alire.md\")\n",
        "k = int(input(\"Quelles question choisit-tu ? \"))\n",
        "print(\"nom du fichier à exécuter pour obtenir la table : \", dictionnaire[k][2], \"\\n\")\n",
        "print(\"la question concerner : \\n\", dictionnaire[k][0], \"\\n\")\n",
        "print(\"la réponse attendue à la question : \\n\", dictionnaire[k][1], \"\\n\")\n",
        "print(\"la représentation des informations précédentes dans le dictionnaire : \\n\", dictionnaire[k])"
      ],
      "outputs": [
        {
          "output_type": "stream",
          "name": "stdout",
          "text": [
            "nom du fichier à exécuter pour obtenir la table :  req3.sql \n",
            "\n",
            "la question concerner : \n",
            " 03.En quelle annee est sortie le film The Godfather  ? \n",
            "\n",
            "la réponse attendue à la question : \n",
            " SELECT startYear FROM title_basics WHERE originalTitle = \"The Godfather\" AND titleType = \"movie\"  \n",
            "\n",
            "la représentation des informations précédentes dans le dictionnaire : \n",
            " ['03.En quelle annee est sortie le film The Godfather  ?', 'SELECT startYear FROM title_basics WHERE originalTitle = \"The Godfather\" AND titleType = \"movie\" ', 'req3.sql']\n"
          ]
        }
      ],
      "execution_count": 13,
      "metadata": {
        "collapsed": true,
        "jupyter": {
          "source_hidden": false,
          "outputs_hidden": false
        },
        "nteract": {
          "transient": {
            "deleting": false
          }
        },
        "execution": {
          "iopub.status.busy": "2021-02-15T09:34:15.144Z",
          "iopub.execute_input": "2021-02-15T09:34:15.162Z",
          "iopub.status.idle": "2021-02-15T09:34:18.104Z",
          "shell.execute_reply": "2021-02-15T09:34:18.070Z"
        }
      }
    },
    {
      "cell_type": "code",
      "source": [
        "\n"
      ],
      "outputs": [],
      "execution_count": null,
      "metadata": {
        "collapsed": true,
        "jupyter": {
          "source_hidden": false,
          "outputs_hidden": false
        },
        "nteract": {
          "transient": {
            "deleting": false
          }
        }
      }
    },
    {
      "cell_type": "code",
      "source": [],
      "outputs": [],
      "execution_count": null,
      "metadata": {
        "collapsed": true,
        "jupyter": {
          "source_hidden": false,
          "outputs_hidden": false
        },
        "nteract": {
          "transient": {
            "deleting": false
          }
        }
      }
    },
    {
      "cell_type": "code",
      "source": [],
      "outputs": [],
      "execution_count": null,
      "metadata": {
        "collapsed": true,
        "jupyter": {
          "source_hidden": false,
          "outputs_hidden": false
        },
        "nteract": {
          "transient": {
            "deleting": false
          }
        }
      }
    },
    {
      "cell_type": "code",
      "source": [],
      "outputs": [],
      "execution_count": null,
      "metadata": {
        "collapsed": true,
        "jupyter": {
          "source_hidden": false,
          "outputs_hidden": false
        },
        "nteract": {
          "transient": {
            "deleting": false
          }
        }
      }
    },
    {
      "cell_type": "code",
      "source": [],
      "outputs": [],
      "execution_count": null,
      "metadata": {
        "collapsed": true,
        "jupyter": {
          "source_hidden": false,
          "outputs_hidden": false
        },
        "nteract": {
          "transient": {
            "deleting": false
          }
        }
      }
    },
    {
      "cell_type": "code",
      "source": [],
      "outputs": [],
      "execution_count": null,
      "metadata": {
        "collapsed": true,
        "jupyter": {
          "source_hidden": false,
          "outputs_hidden": false
        },
        "nteract": {
          "transient": {
            "deleting": false
          }
        }
      }
    },
    {
      "cell_type": "code",
      "source": [],
      "outputs": [],
      "execution_count": null,
      "metadata": {
        "collapsed": true,
        "jupyter": {
          "source_hidden": false,
          "outputs_hidden": false
        },
        "nteract": {
          "transient": {
            "deleting": false
          }
        }
      }
    },
    {
      "cell_type": "code",
      "source": [],
      "outputs": [],
      "execution_count": null,
      "metadata": {
        "collapsed": true,
        "jupyter": {
          "source_hidden": false,
          "outputs_hidden": false
        },
        "nteract": {
          "transient": {
            "deleting": false
          }
        }
      }
    },
    {
      "cell_type": "code",
      "source": [],
      "outputs": [],
      "execution_count": null,
      "metadata": {
        "collapsed": true,
        "jupyter": {
          "source_hidden": false,
          "outputs_hidden": false
        },
        "nteract": {
          "transient": {
            "deleting": false
          }
        }
      }
    },
    {
      "cell_type": "code",
      "source": [],
      "outputs": [],
      "execution_count": null,
      "metadata": {
        "collapsed": true,
        "jupyter": {
          "source_hidden": false,
          "outputs_hidden": false
        },
        "nteract": {
          "transient": {
            "deleting": false
          }
        }
      }
    },
    {
      "cell_type": "code",
      "source": [],
      "outputs": [],
      "execution_count": null,
      "metadata": {
        "collapsed": true,
        "jupyter": {
          "source_hidden": false,
          "outputs_hidden": false
        },
        "nteract": {
          "transient": {
            "deleting": false
          }
        }
      }
    },
    {
      "cell_type": "code",
      "source": [],
      "outputs": [],
      "execution_count": null,
      "metadata": {
        "collapsed": true,
        "jupyter": {
          "source_hidden": false,
          "outputs_hidden": false
        },
        "nteract": {
          "transient": {
            "deleting": false
          }
        }
      }
    }
  ],
  "metadata": {
    "kernel_info": {
      "name": "python3"
    },
    "language_info": {
      "name": "python",
      "version": "3.8.5",
      "mimetype": "text/x-python",
      "codemirror_mode": {
        "name": "ipython",
        "version": 3
      },
      "pygments_lexer": "ipython3",
      "nbconvert_exporter": "python",
      "file_extension": ".py"
    },
    "kernelspec": {
      "argv": [
        "C:\\Winpython\\python-3.8.5.amd64\\python.exe",
        "-m",
        "ipykernel_launcher",
        "-f",
        "{connection_file}"
      ],
      "display_name": "Python 3",
      "language": "python",
      "name": "python3"
    },
    "nteract": {
      "version": "0.28.0"
    }
  },
  "nbformat": 4,
  "nbformat_minor": 0
}