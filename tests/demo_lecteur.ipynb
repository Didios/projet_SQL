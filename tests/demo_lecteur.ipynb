{
  "cells": [
    {
      "cell_type": "code",
      "source": [
        "#Utiliser une base de données\n",
        "\n",
        "import sqlite3\n",
        "conn = sqlite3.connect('imdb.db')\n",
        "c = conn.cursor()\n",
        "c.execute(\"select * from name_basics limit 10\")\n",
        "for row in c:\n",
        "  print(row)\n",
        "conn.close()"
      ],
      "outputs": [
        {
          "output_type": "stream",
          "name": "stdout",
          "text": [
            "(1, 'Fred Astaire', 1899, 1987, 'soundtrack,actor,miscellaneous')\n",
            "(2, 'Lauren Bacall', 1924, 2014, 'actress,soundtrack')\n",
            "(3, 'Brigitte Bardot', 1934, None, 'actress,soundtrack,music_department')\n",
            "(4, 'John Belushi', 1949, 1982, 'actor,soundtrack,writer')\n",
            "(5, 'Ingmar Bergman', 1918, 2007, 'writer,director,actor')\n",
            "(6, 'Ingrid Bergman', 1915, 1982, 'actress,soundtrack,producer')\n",
            "(7, 'Humphrey Bogart', 1899, 1957, 'actor,soundtrack,producer')\n",
            "(8, 'Marlon Brando', 1924, 2004, 'actor,soundtrack,director')\n",
            "(9, 'Richard Burton', 1925, 1984, 'actor,soundtrack,producer')\n",
            "(10, 'James Cagney', 1899, 1986, 'actor,soundtrack,director')\n"
          ]
        }
      ],
      "execution_count": 1,
      "metadata": {
        "collapsed": true,
        "jupyter": {
          "source_hidden": false,
          "outputs_hidden": false
        },
        "nteract": {
          "transient": {
            "deleting": false
          }
        },
        "execution": {
          "shell.execute_reply": "2021-02-11T12:42:50.280Z",
          "iopub.status.busy": "2021-02-11T12:42:50.204Z",
          "iopub.execute_input": "2021-02-11T12:42:50.220Z",
          "iopub.status.idle": "2021-02-11T12:42:50.262Z"
        }
      }
    },
    {
      "cell_type": "code",
      "source": [
        "#Etapes pour afficher une table SQL\n",
        "\n",
        "import sqlite3\n",
        "conn = sqlite3.connect('imdb.db')\n",
        "c = conn.cursor()\n",
        "c.execute(\"select * from name_basics limit 10\")\n",
        "\n",
        "def tableSQL_tableau(sql):\n",
        "  \"\"\"\n",
        "  fonction qui convertit un tableau sqlite3 en tableau python\n",
        "  parametres:\n",
        "             sql, un tableau sqlite3\n",
        "  renvoie une liste python (dont chaque élément est une ligne de 'sql')\n",
        "  \"\"\"\n",
        "  tableau = sql.fetchall()\n",
        "  return tableau\n",
        "\n",
        "sortie = tableSQL_tableau(c)\n",
        "conn.close()\n",
        "\n",
        "def taille_colonne(tableau):\n",
        "  \"\"\"\n",
        "  fonction qui renvoie la taille minimale que doit avoir chaque colonne du tableau à afficher\n",
        "  parametres:\n",
        "             tableau, une liste de liste python\n",
        "  renvoie une liste de valeur\n",
        "  \"\"\"\n",
        "  longueur_colonne = [0] * len(tableau[0])\n",
        "  for ligne in tableau:\n",
        "    for column in range(len(ligne)):\n",
        "      if len(str(ligne[column])) > longueur_colonne[column]:\n",
        "        longueur_colonne[column] = len(str(ligne[column]))\n",
        "  for i in range(len(longueur_colonne)):\n",
        "    longueur_colonne[i] += 1    \n",
        "  return longueur_colonne\n",
        "\n",
        "taille = taille_colonne(sortie)\n",
        "\n",
        "def separation(dimension):\n",
        "  \"\"\"\n",
        "  fonction qui renvoie la representation d'un trait entre deux lignes d'un tableau\n",
        "  parametres:\n",
        "             dimension, une liste de valeur\n",
        "  renvoie une chaine de caracteres\n",
        "  \"\"\"\n",
        "  ligne_separation = \"+\"\n",
        "  for column in dimension:\n",
        "    ligne_separation += \"-\" * column\n",
        "    ligne_separation += \"+\"\n",
        "  return ligne_separation\n",
        "  \n",
        "ligne = separation(taille)\n",
        "\n",
        "def afficher_ligne(ligne, dimension):\n",
        "  \"\"\"\n",
        "  fonction qui permet d'afficher un tableau avec une ligne seulement avec des dimension de colonnes précise\n",
        "  parametres:\n",
        "             ligne, une liste\n",
        "             dimension, une liste\n",
        "  affiche la ligne au format ascii\n",
        "  \"\"\"\n",
        "  chaine = \"|\"\n",
        "  for column in range(len(ligne)):\n",
        "    chaine += str(ligne[column])\n",
        "    chaine += \" \" * (dimension[column] - len(str(ligne[column])))\n",
        "    chaine += \"|\"\n",
        "  print(chaine)\n",
        "  \n",
        "print(ligne)\n",
        "afficher_ligne(sortie[0], taille)\n",
        "print(ligne)"
      ],
      "outputs": [
        {
          "output_type": "stream",
          "name": "stdout",
          "text": [
            "+---+----------------+-----+-----+------------------------------------+\n",
            "|1  |Fred Astaire    |1899 |1987 |soundtrack,actor,miscellaneous      |\n",
            "+---+----------------+-----+-----+------------------------------------+\n"
          ]
        }
      ],
      "execution_count": 12,
      "metadata": {
        "collapsed": true,
        "jupyter": {
          "source_hidden": false,
          "outputs_hidden": false
        },
        "nteract": {
          "transient": {
            "deleting": false
          }
        },
        "execution": {
          "iopub.status.busy": "2021-02-11T12:48:44.389Z",
          "iopub.execute_input": "2021-02-11T12:48:44.405Z",
          "shell.execute_reply": "2021-02-11T12:48:44.578Z",
          "iopub.status.idle": "2021-02-11T12:48:44.448Z"
        }
      }
    },
    {
      "cell_type": "code",
      "source": [
        "#fonction finale\n",
        "\n",
        "def afficher_table(table, debut = 0, fin = None):\n",
        "  \"\"\"\n",
        "  fonction que affiche une table sql, avec la possibilité de choisir l'intervalle de ligne à afficher\n",
        "  parametres:\n",
        "             table, une table sqlite3\n",
        "             debut (optionnel), un nombre entier\n",
        "             fin (optionnel), un nombre entier\n",
        "  affiche la partie du tableau souhaiter, par défaut son entièreté\n",
        "  \"\"\"\n",
        "  if type(table) != list:\n",
        "    sortie = tableSQL_tableau(table)\n",
        "  else:\n",
        "    sortie = table\n",
        "  dimension_colonne = taille_colonne(sortie)\n",
        "  separation_ligne = separation(dimension_colonne)\n",
        "  if fin == None or fin > len(sortie):\n",
        "    fin = len(sortie)\n",
        "  if debut != 0:\n",
        "    debut -= 1\n",
        "  if debut < 1:\n",
        "    debut = 0\n",
        "  print(separation_ligne)\n",
        "  for ligne in range(debut, fin):\n",
        "    afficher_ligne(sortie[ligne], dimension_colonne)\n",
        "    print(separation_ligne)  \n",
        "    \n",
        "\n",
        "import sqlite3\n",
        "conn = sqlite3.connect('imdb.db')\n",
        "c = conn.cursor()\n",
        "c.execute(\"select * from name_basics limit 10\")\n",
        "afficher_table(c,6,8)\n",
        "conn.close()"
      ],
      "outputs": [
        {
          "output_type": "stream",
          "name": "stdout",
          "text": [
            "+---+----------------+-----+-----+------------------------------------+\n",
            "|6  |Ingrid Bergman  |1915 |1982 |actress,soundtrack,producer         |\n",
            "+---+----------------+-----+-----+------------------------------------+\n",
            "|7  |Humphrey Bogart |1899 |1957 |actor,soundtrack,producer           |\n",
            "+---+----------------+-----+-----+------------------------------------+\n",
            "|8  |Marlon Brando   |1924 |2004 |actor,soundtrack,director           |\n",
            "+---+----------------+-----+-----+------------------------------------+\n"
          ]
        }
      ],
      "execution_count": 11,
      "metadata": {
        "collapsed": true,
        "jupyter": {
          "source_hidden": false,
          "outputs_hidden": false
        },
        "nteract": {
          "transient": {
            "deleting": false
          }
        },
        "execution": {
          "iopub.status.busy": "2021-02-11T12:40:47.677Z",
          "iopub.execute_input": "2021-02-11T12:40:47.700Z",
          "iopub.status.idle": "2021-02-11T12:40:47.747Z",
          "shell.execute_reply": "2021-02-11T12:40:47.784Z"
        }
      }
    },
    {
      "cell_type": "code",
      "source": [
        "# Pour n'avoir qu'une partie du tableau\n",
        "# A améliorer, notamment sur le 'pbm' d'affichega avec des colonnes trop grande \n",
        "\n",
        "def projection_table(table, *args):\n",
        "  \"\"\"\n",
        "  fonction permettent de faire une projection sur un tableau sql\n",
        "  parametres:\n",
        "             table, une table sqlite3\n",
        "             args, une liste d'entier\n",
        "  renvoie une liste avec les colonne selectionner\n",
        "  \"\"\"\n",
        "  tableau = tableSQL_tableau(table)\n",
        "  return [[ligne[column] for column in args] for ligne in tableau]\n",
        "  \n",
        "import sqlite3\n",
        "conn = sqlite3.connect('imdb.db')\n",
        "c = conn.cursor()\n",
        "c.execute(\"select * from name_basics limit 10\")\n",
        "t = conn.cursor()\n",
        "t.execute(\"select * from name_basics limit 10\")\n",
        "afficher_table(c, 6)\n",
        "afficher_table(projection_table(t,1,4), 6) \n",
        "conn.close()"
      ],
      "outputs": [
        {
          "output_type": "stream",
          "name": "stdout",
          "text": [
            "+---+----------------+-----+-----+------------------------------------+\n",
            "|6  |Ingrid Bergman  |1915 |1982 |actress,soundtrack,producer         |\n",
            "+---+----------------+-----+-----+------------------------------------+\n",
            "|7  |Humphrey Bogart |1899 |1957 |actor,soundtrack,producer           |\n",
            "+---+----------------+-----+-----+------------------------------------+\n",
            "|8  |Marlon Brando   |1924 |2004 |actor,soundtrack,director           |\n",
            "+---+----------------+-----+-----+------------------------------------+\n",
            "|9  |Richard Burton  |1925 |1984 |actor,soundtrack,producer           |\n",
            "+---+----------------+-----+-----+------------------------------------+\n",
            "|10 |James Cagney    |1899 |1986 |actor,soundtrack,director           |\n",
            "+---+----------------+-----+-----+------------------------------------+\n",
            "+----------------+------------------------------------+\n",
            "|Ingrid Bergman  |actress,soundtrack,producer         |\n",
            "+----------------+------------------------------------+\n",
            "|Humphrey Bogart |actor,soundtrack,producer           |\n",
            "+----------------+------------------------------------+\n",
            "|Marlon Brando   |actor,soundtrack,director           |\n",
            "+----------------+------------------------------------+\n",
            "|Richard Burton  |actor,soundtrack,producer           |\n",
            "+----------------+------------------------------------+\n",
            "|James Cagney    |actor,soundtrack,director           |\n",
            "+----------------+------------------------------------+\n"
          ]
        }
      ],
      "execution_count": 12,
      "metadata": {
        "collapsed": true,
        "jupyter": {
          "source_hidden": false,
          "outputs_hidden": false
        },
        "nteract": {
          "transient": {
            "deleting": false
          }
        },
        "execution": {
          "iopub.status.busy": "2021-02-11T12:40:49.065Z",
          "iopub.execute_input": "2021-02-11T12:40:49.102Z",
          "iopub.status.idle": "2021-02-11T12:40:49.186Z",
          "shell.execute_reply": "2021-02-11T12:40:49.216Z"
        }
      }
    },
    {
      "cell_type": "code",
      "source": [
        "# pour melanger 2 table\n",
        "\n",
        "def produit_cartesien(table1, table2):\n",
        "  \"\"\"\n",
        "  fonction permettant de faire le produit cartesien de 2 tables sql\n",
        "  parametres:\n",
        "             table1, une table sql\n",
        "             table2, une autre table sql\n",
        "  renvoie une liste\n",
        "  \"\"\"\n",
        "  tableau1 = tableSQL_tableau(table1)\n",
        "  tableau2 = tableSQL_tableau(table2)\n",
        "  tableau = []\n",
        "  for ligne1 in tableau1:\n",
        "    for ligne2 in tableau2:\n",
        "      tableau += [ligne1 + ligne2]\n",
        "  return tableau\n",
        "\n",
        "import sqlite3\n",
        "conn = sqlite3.connect('imdb.db')\n",
        "c = conn.cursor()\n",
        "c1 = conn.cursor()\n",
        "c.execute(\"select * from title_basics limit 2\")\n",
        "c1.execute(\"select * from title_basics limit 2\")\n",
        "print(\"-----------------\")\n",
        "print(c.fetchall())\n",
        "print(\"-----------------\")\n",
        "t = conn.cursor()\n",
        "t1 = conn.cursor()\n",
        "t.execute(\"select * from title_ratings limit 3\")\n",
        "t1.execute(\"select * from title_ratings limit 3\")\n",
        "afficher_table(c)\n",
        "afficher_table(t)\n",
        "afficher_table(produit_cartesien(c1, t1))\n",
        "conn.close()"
      ],
      "outputs": [
        {
          "output_type": "stream",
          "name": "stdout",
          "text": [
            "-----------------\n",
            "[(3, 'short', 'Pauvre Pierrot', 'Pauvre Pierrot', 0, 1892, None, 4, 'Animation,Comedy,Romance'), (10, 'short', 'Leaving the Factory', \"La sortie de l'usine Lumière à Lyon\", 0, 1895, None, 1, 'Documentary,Short')]\n",
            "-----------------\n"
          ]
        },
        {
          "output_type": "error",
          "ename": "NameError",
          "evalue": "name 'afficher_table' is not defined",
          "traceback": [
            "\u001b[1;31m---------------------------------------------------------------------------\u001b[0m",
            "\u001b[1;31mNameError\u001b[0m                                 Traceback (most recent call last)",
            "\u001b[1;32m<ipython-input-11-b78b25384246>\u001b[0m in \u001b[0;36m<module>\u001b[1;34m\u001b[0m\n\u001b[0;32m     30\u001b[0m \u001b[0mt\u001b[0m\u001b[1;33m.\u001b[0m\u001b[0mexecute\u001b[0m\u001b[1;33m(\u001b[0m\u001b[1;34m\"select * from title_ratings limit 3\"\u001b[0m\u001b[1;33m)\u001b[0m\u001b[1;33m\u001b[0m\u001b[1;33m\u001b[0m\u001b[0m\n\u001b[0;32m     31\u001b[0m \u001b[0mt1\u001b[0m\u001b[1;33m.\u001b[0m\u001b[0mexecute\u001b[0m\u001b[1;33m(\u001b[0m\u001b[1;34m\"select * from title_ratings limit 3\"\u001b[0m\u001b[1;33m)\u001b[0m\u001b[1;33m\u001b[0m\u001b[1;33m\u001b[0m\u001b[0m\n\u001b[1;32m---> 32\u001b[1;33m \u001b[0mafficher_table\u001b[0m\u001b[1;33m(\u001b[0m\u001b[0mc\u001b[0m\u001b[1;33m)\u001b[0m\u001b[1;33m\u001b[0m\u001b[1;33m\u001b[0m\u001b[0m\n\u001b[0m\u001b[0;32m     33\u001b[0m \u001b[0mafficher_table\u001b[0m\u001b[1;33m(\u001b[0m\u001b[0mt\u001b[0m\u001b[1;33m)\u001b[0m\u001b[1;33m\u001b[0m\u001b[1;33m\u001b[0m\u001b[0m\n\u001b[0;32m     34\u001b[0m \u001b[0mafficher_table\u001b[0m\u001b[1;33m(\u001b[0m\u001b[0mproduit_cartesien\u001b[0m\u001b[1;33m(\u001b[0m\u001b[0mc1\u001b[0m\u001b[1;33m,\u001b[0m \u001b[0mt1\u001b[0m\u001b[1;33m)\u001b[0m\u001b[1;33m)\u001b[0m\u001b[1;33m\u001b[0m\u001b[1;33m\u001b[0m\u001b[0m\n",
            "\u001b[1;31mNameError\u001b[0m: name 'afficher_table' is not defined"
          ]
        }
      ],
      "execution_count": 11,
      "metadata": {
        "collapsed": true,
        "jupyter": {
          "source_hidden": false,
          "outputs_hidden": false
        },
        "nteract": {
          "transient": {
            "deleting": false
          }
        },
        "execution": {
          "iopub.status.busy": "2021-02-11T12:47:47.454Z",
          "iopub.execute_input": "2021-02-11T12:47:47.584Z",
          "iopub.status.idle": "2021-02-11T12:40:50.856Z",
          "shell.execute_reply": "2021-02-11T12:40:50.870Z"
        }
      }
    },
    {
      "cell_type": "code",
      "source": [
        "import sqlite3\n",
        "\n",
        "class database:\n",
        "  #https://docs.python.org/3/library/sqlite3.html\n",
        "  def __init__(self, base):\n",
        "    self.base = \"\"\n",
        "    \n",
        "  def connexion(self):\n",
        "    \"\"\"\n",
        "    méthode permettant de se connecter à la base de donnée\n",
        "    \"\"\"\n",
        "    self.con = sqlite3.connect(self.base)\n",
        "    self.cur = self.con.cursor()\n",
        "    \n",
        "  def deconnexion(self):\n",
        "    \"\"\"\n",
        "    méthode permettant de se deconnecter à la base de donnée\n",
        "    \"\"\"\n",
        "    self.con.close()\n",
        "    \n",
        "  def fetch(self,sql):\n",
        "    \"\"\"\n",
        "    méthode permettant d'obtenir le résultat d'une requête sql\n",
        "    parametres:\n",
        "               sql, une chaine de caracteres correspondant à une requete SQL\n",
        "    renvoie le résultat de la requete dans la base\n",
        "    \"\"\"\n",
        "    self.connexion()\n",
        "    self.cur.execute(sql)\n",
        "    result = self.cur.fetchall()\n",
        "    self.deconnexion()\n",
        "    return result\n",
        "  \n",
        "  def execute(self,sql):\n",
        "    \"\"\"\n",
        "    méthode permettant d'executer une requete sql dans la base, plus pour les modifications de la base\n",
        "    parametres:\n",
        "               sql, une chaine de caracteres correspondant a une requete sql\n",
        "    \"\"\"\n",
        "    self.connexion()\n",
        "    self.cur.execute(sql)\n",
        "    self.deconnexion()\n",
        "    \n",
        "  def chargersql():\n",
        "    pass\n",
        "  \n",
        "  def afficher_table():\n",
        "    pass\n",
        "  \n",
        "  def listedesrequetes():\n",
        "    pass\n",
        "  \n",
        "  def infotable():\n",
        "    pass \n",
        "  \n",
        "  def informations_base():\n",
        "    pass"
      ],
      "outputs": [],
      "execution_count": 21,
      "metadata": {
        "collapsed": true,
        "jupyter": {
          "source_hidden": false,
          "outputs_hidden": false
        },
        "nteract": {
          "transient": {
            "deleting": false
          }
        },
        "execution": {
          "shell.execute_reply": "2021-02-11T12:59:03.680Z",
          "iopub.status.busy": "2021-02-11T12:59:03.626Z",
          "iopub.execute_input": "2021-02-11T12:59:03.641Z",
          "iopub.status.idle": "2021-02-11T12:59:03.663Z"
        }
      }
    },
    {
      "cell_type": "code",
      "source": [
        "import sqlite3\n",
        "imdb = database(\"imdb.db\")\n",
        "imdb.connexion()\n",
        "test = imdb.fetch(\"select primaryName from name_basics limit 10\")\n",
        "print(test)\n"
      ],
      "outputs": [
        {
          "output_type": "error",
          "ename": "OperationalError",
          "evalue": "no such table: name_basics",
          "traceback": [
            "\u001b[1;31m---------------------------------------------------------------------------\u001b[0m",
            "\u001b[1;31mOperationalError\u001b[0m                          Traceback (most recent call last)",
            "\u001b[1;32m<ipython-input-22-c495d9bd817f>\u001b[0m in \u001b[0;36m<module>\u001b[1;34m\u001b[0m\n\u001b[0;32m      2\u001b[0m \u001b[0mimdb\u001b[0m \u001b[1;33m=\u001b[0m \u001b[0mdatabase\u001b[0m\u001b[1;33m(\u001b[0m\u001b[1;34m\"imdb.db\"\u001b[0m\u001b[1;33m)\u001b[0m\u001b[1;33m\u001b[0m\u001b[1;33m\u001b[0m\u001b[0m\n\u001b[0;32m      3\u001b[0m \u001b[0mimdb\u001b[0m\u001b[1;33m.\u001b[0m\u001b[0mconnexion\u001b[0m\u001b[1;33m(\u001b[0m\u001b[1;33m)\u001b[0m\u001b[1;33m\u001b[0m\u001b[1;33m\u001b[0m\u001b[0m\n\u001b[1;32m----> 4\u001b[1;33m \u001b[0mtest\u001b[0m \u001b[1;33m=\u001b[0m \u001b[0mimdb\u001b[0m\u001b[1;33m.\u001b[0m\u001b[0mfetch\u001b[0m\u001b[1;33m(\u001b[0m\u001b[1;34m\"select primaryName from name_basics limit 10\"\u001b[0m\u001b[1;33m)\u001b[0m\u001b[1;33m\u001b[0m\u001b[1;33m\u001b[0m\u001b[0m\n\u001b[0m\u001b[0;32m      5\u001b[0m \u001b[0mprint\u001b[0m\u001b[1;33m(\u001b[0m\u001b[0mtest\u001b[0m\u001b[1;33m)\u001b[0m\u001b[1;33m\u001b[0m\u001b[1;33m\u001b[0m\u001b[0m\n",
            "\u001b[1;32m<ipython-input-21-53115cfba5d4>\u001b[0m in \u001b[0;36mfetch\u001b[1;34m(self, sql)\u001b[0m\n\u001b[0;32m     27\u001b[0m     \"\"\"\n\u001b[0;32m     28\u001b[0m     \u001b[0mself\u001b[0m\u001b[1;33m.\u001b[0m\u001b[0mconnexion\u001b[0m\u001b[1;33m(\u001b[0m\u001b[1;33m)\u001b[0m\u001b[1;33m\u001b[0m\u001b[1;33m\u001b[0m\u001b[0m\n\u001b[1;32m---> 29\u001b[1;33m     \u001b[0mself\u001b[0m\u001b[1;33m.\u001b[0m\u001b[0mcur\u001b[0m\u001b[1;33m.\u001b[0m\u001b[0mexecute\u001b[0m\u001b[1;33m(\u001b[0m\u001b[0msql\u001b[0m\u001b[1;33m)\u001b[0m\u001b[1;33m\u001b[0m\u001b[1;33m\u001b[0m\u001b[0m\n\u001b[0m\u001b[0;32m     30\u001b[0m     \u001b[0mresult\u001b[0m \u001b[1;33m=\u001b[0m \u001b[0mself\u001b[0m\u001b[1;33m.\u001b[0m\u001b[0mcur\u001b[0m\u001b[1;33m.\u001b[0m\u001b[0mfetchall\u001b[0m\u001b[1;33m(\u001b[0m\u001b[1;33m)\u001b[0m\u001b[1;33m\u001b[0m\u001b[1;33m\u001b[0m\u001b[0m\n\u001b[0;32m     31\u001b[0m     \u001b[0mself\u001b[0m\u001b[1;33m.\u001b[0m\u001b[0mdeconnexion\u001b[0m\u001b[1;33m(\u001b[0m\u001b[1;33m)\u001b[0m\u001b[1;33m\u001b[0m\u001b[1;33m\u001b[0m\u001b[0m\n",
            "\u001b[1;31mOperationalError\u001b[0m: no such table: name_basics"
          ]
        }
      ],
      "execution_count": 22,
      "metadata": {
        "collapsed": true,
        "jupyter": {
          "source_hidden": false,
          "outputs_hidden": false
        },
        "nteract": {
          "transient": {
            "deleting": false
          }
        },
        "execution": {
          "iopub.status.busy": "2021-02-11T12:59:06.460Z",
          "iopub.execute_input": "2021-02-11T12:59:06.479Z"
        }
      }
    },
    {
      "cell_type": "code",
      "source": [
        "#stockage des requetes dans un dictionnaire\n",
        "import os\n",
        "\n",
        "question = []\n",
        "\n",
        "def lire_questions(fichier):\n",
        "  alire = open(fichier, \"r\").readlines()\n",
        "  liste_questions = []\n",
        "  req = False\n",
        "  ligne = \"\"\n",
        "  for l in alire:\n",
        "    if l[0] == \"#\":\n",
        "      liste_questions += [l[1:-2]]\n",
        "  return liste_questions\n",
        "    \n",
        "  \n",
        "print(lire_questions(\"requetes/alire.md\"))"
      ],
      "outputs": [
        {
          "output_type": "stream",
          "name": "stdout",
          "text": [
            "['01.Quels sont les differents types de titres dans cette base de donnees ?', '02.Combien y a-t-il de titres dans cette base de donnees ? ', '03.En quelle annee est sortie le film  The Godfather  ? ', '04.En quelle annee est sortie le premier film Superman ? ', '05.Quel est le titre original du film  Les dents de la mer  ? ', '06.Quel est le metier dâ€™Olivier Nakache ? ', '07.Quels sont les films dâ€™Olivier Nakache ? ', '08.Quel est le film ayant recueilli le plus de votes ? ', '09.Qui a ecrit le scenario du film Taxi sorti en 1998 ? ', '10.Quelles sont les noms et roles (category et job) des personnes intervenant dans la production du film Return of the Jedi ? ', '11.Quels sont les titres des films notes plus de 9 sur 10 avec plus de 10 000 votes ? ', '12.Quelle sont les 5 comedies romantiques les mieux notees ? ', '13.Quels sont les 10 films dâ€™animation ayant recu plus de 1000 votes les mieux notes ? ', '14.Combien de films durent plus de 3 heures ? ', '15.Quelle est la duree moyenne d un film ? ', '16.Quel est le film le plus long ? ', '17.Quels sont les 5 films les plus longs ? ', '18.Quels sont les titres des films les plus connus de Sean Connery ? ', '19.Quels sont les acteurs ayant joue le role de James Bond, et dans quels films ? ', '20.Quel sont les realisateurs ayant fait les cinq film les mieux notes ? Indiquer les noms des films correspondants. ', '21.Quels sont les noms des episodes de Game of Thrones ']\n"
          ]
        }
      ],
      "execution_count": 15,
      "metadata": {
        "collapsed": true,
        "jupyter": {
          "source_hidden": false,
          "outputs_hidden": false
        },
        "nteract": {
          "transient": {
            "deleting": false
          }
        },
        "execution": {
          "iopub.status.busy": "2021-02-11T13:38:53.916Z",
          "iopub.execute_input": "2021-02-11T13:38:53.935Z",
          "iopub.status.idle": "2021-02-11T13:38:53.983Z",
          "shell.execute_reply": "2021-02-11T13:38:53.997Z"
        }
      }
    },
    {
      "cell_type": "code",
      "source": [
        "#echec\n",
        "import os\n",
        "\n",
        "def listes_requetes(fichier):\n",
        "  alire = open(fichier, \"r\").readlines()\n",
        "  lignes = [l for l in alire if l != \"\"]\n",
        "  print(lignes)\n",
        "  liste_requetes = []\n",
        "  \n",
        "listes"
      ],
      "outputs": [],
      "execution_count": null,
      "metadata": {
        "collapsed": true,
        "jupyter": {
          "source_hidden": false,
          "outputs_hidden": false
        },
        "nteract": {
          "transient": {
            "deleting": false
          }
        }
      }
    },
    {
      "cell_type": "code",
      "source": [
        "def fichier_SQL(repertoire = \"\", extension = \"sql\"):\n",
        "  verifier que repertoire existe\n",
        "  verifier qu il n est pas vide\n",
        "  charger dans un dico ==> [\"repere\"]: (\"question\", \"requetes\")\n",
        "    \n",
        "def test(dico, numero):\n",
        "  execute requetes\n",
        "  affiche resultat requetes\n",
        "  \n",
        "def sql():\n",
        "  retourne listes de listes"
      ],
      "outputs": [],
      "execution_count": null,
      "metadata": {
        "collapsed": true,
        "jupyter": {
          "source_hidden": false,
          "outputs_hidden": false
        },
        "nteract": {
          "transient": {
            "deleting": false
          }
        }
      }
    },
    {
      "cell_type": "code",
      "source": [
        "# On fait en sorte de retourner une chaine de caracteres à la place des prints\n",
        "def taille_colonne(tableau):\n",
        "  \"\"\"\n",
        "  fonction qui renvoie la taille minimale que doit avoir chaque colonne du tableau à afficher\n",
        "  parametres:\n",
        "             tableau, une liste de liste python\n",
        "  renvoie une liste de valeur\n",
        "  \"\"\"\n",
        "  longueur_colonne = [0] * len(tableau[0])\n",
        "  for ligne in tableau:\n",
        "    for column in range(len(ligne)):\n",
        "      if len(str(ligne[column])) > longueur_colonne[column]:\n",
        "        longueur_colonne[column] = len(str(ligne[column]))\n",
        "  for i in range(len(longueur_colonne)):\n",
        "    longueur_colonne[i] += 1    \n",
        "  return longueur_colonne\n",
        "\n",
        "def separation(dimension):\n",
        "  \"\"\"\n",
        "  fonction qui renvoie la representation d'un trait entre deux lignes d'un tableau\n",
        "  parametres:\n",
        "             dimension, une liste de valeur\n",
        "  renvoie une chaine de caracteres\n",
        "  \"\"\"\n",
        "  ligne_separation = \"+\"\n",
        "  for column in dimension:\n",
        "    ligne_separation += \"-\" * column\n",
        "    ligne_separation += \"+\"\n",
        "  return ligne_separation\n",
        "  \n",
        "\n",
        "def afficher_ligne(ligne, dimension):\n",
        "  \"\"\"\n",
        "  fonction qui permet d'afficher un tableau avec une ligne seulement avec des dimension de colonnes précise\n",
        "  parametres:\n",
        "             ligne, une liste\n",
        "             dimension, une liste\n",
        "  affiche la ligne au format ascii\n",
        "  \"\"\"\n",
        "  chaine = \"|\"\n",
        "  for column in range(len(ligne)):\n",
        "    chaine += str(ligne[column])\n",
        "    chaine += \" \" * (dimension[column] - len(str(ligne[column])))\n",
        "    chaine += \"|\"\n",
        "  return chaine\n",
        "  \n",
        "def afficher_table(table, debut = 0, fin = None):\n",
        "  chaine_finale = \"\"\n",
        "  \"\"\"\n",
        "  fonction que affiche une table sql, avec la possibilité de choisir l'intervalle de ligne à afficher\n",
        "  parametres:\n",
        "             table, une table sqlite3\n",
        "             debut (optionnel), un nombre entier\n",
        "             fin (optionnel), un nombre entier\n",
        "  affiche la partie du tableau souhaiter, par défaut son entièreté\n",
        "  \"\"\"\n",
        "  if type(table) != list:\n",
        "    sortie = tableSQL_tableau(table)\n",
        "  else:\n",
        "    sortie = table\n",
        "  dimension_colonne = taille_colonne(sortie)\n",
        "  separation_ligne = separation(dimension_colonne)\n",
        "  if fin == None or fin > len(sortie):\n",
        "    fin = len(sortie)\n",
        "  if debut != 0:\n",
        "    debut -= 1\n",
        "  if debut < 1:\n",
        "    debut = 0\n",
        "  chaine_finale += separation_ligne + \"\\n\"\n",
        "  for ligne in range(debut, fin):\n",
        "    chaine_finale += afficher_ligne(sortie[ligne], dimension_colonne) + \"\\n\"\n",
        "    chaine_finale += separation_ligne + \"\\n\"\n",
        "  return chaine_finale"
      ],
      "outputs": [],
      "execution_count": 3,
      "metadata": {
        "collapsed": true,
        "jupyter": {
          "source_hidden": false,
          "outputs_hidden": false
        },
        "nteract": {
          "transient": {
            "deleting": false
          }
        },
        "execution": {
          "iopub.status.busy": "2021-02-16T13:09:38.770Z",
          "iopub.execute_input": "2021-02-16T13:09:38.814Z",
          "shell.execute_reply": "2021-02-16T13:09:38.926Z",
          "iopub.status.idle": "2021-02-16T13:09:38.893Z"
        }
      }
    },
    {
      "cell_type": "code",
      "source": [],
      "outputs": [],
      "execution_count": null,
      "metadata": {
        "collapsed": true,
        "jupyter": {
          "source_hidden": false,
          "outputs_hidden": false
        },
        "nteract": {
          "transient": {
            "deleting": false
          }
        }
      }
    }
  ],
  "metadata": {
    "kernel_info": {
      "name": "python3"
    },
    "language_info": {
      "name": "python",
      "version": "3.8.5",
      "mimetype": "text/x-python",
      "codemirror_mode": {
        "name": "ipython",
        "version": 3
      },
      "pygments_lexer": "ipython3",
      "nbconvert_exporter": "python",
      "file_extension": ".py"
    },
    "kernelspec": {
      "argv": [
        "C:\\Winpython\\python-3.8.5.amd64\\python.exe",
        "-m",
        "ipykernel_launcher",
        "-f",
        "{connection_file}"
      ],
      "display_name": "Python 3",
      "language": "python",
      "name": "python3"
    },
    "nteract": {
      "version": "0.28.0"
    }
  },
  "nbformat": 4,
  "nbformat_minor": 0
}