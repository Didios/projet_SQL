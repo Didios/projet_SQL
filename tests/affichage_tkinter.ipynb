{
  "cells": [
    {
      "cell_type": "code",
      "source": [
        "# import venant des autres fichiers\n",
        "\n",
        "import sqlite3\n",
        "\n",
        "def fichier_existe(path):\n",
        "  \"\"\"\n",
        "  fonction permettant de connaitre l'existence d'un répertoire ou d'un fichier\n",
        "  parametres:\n",
        "             path, le chemin vers le répertoire souhaité sous forme de chaine de caracteres\n",
        "  renvoie un booléen, True si le répertoire/fichier existe et False sinon\n",
        "  \"\"\"\n",
        "  if \".\" in path and os.path.isfile(path):\n",
        "    return True\n",
        "  elif os.path.isdir(path):\n",
        "    return True\n",
        "  else:\n",
        "    return False  \n",
        "\n",
        "def lire_fichier(file):\n",
        "  if fichier_existe(file):\n",
        "    f = open(file).readlines()\n",
        "    return f\n",
        "\n",
        "def database_connexion(db_file):\n",
        "  connexion = None\n",
        "  try:\n",
        "    connexion = sqlite3.connect(db_file)\n",
        "  except Error as e:\n",
        "    return e\n",
        "  \n",
        "  return connexion\n",
        "\n",
        "def database_deconnexion(connexion):\n",
        "  connexion.close()\n",
        "\n",
        "def execute_sql(connexion, sql):\n",
        "  cur = connexion.cursor()\n",
        "  cur.execute(sql)\n",
        "  rows = cur.fetchall()\n",
        "  return rows\n",
        "\n",
        "def execute_sql_file(path, file, db):\n",
        "  \"\"\"\n",
        "  fonction permettant d'exécuter une requete sql dans une base de données, ici, on lit le fichier puis on l'éxécute\n",
        "  parametres:\n",
        "             path, une chaine de caracteres contenant le chemin d'accès au fichier avec le fichier sql\n",
        "             file, une chaine de caracteres contenant le nom du fichier à exécuter\n",
        "             db, une chaine de caracteres avec le chemin entier vers la base de données dans laquelle exécuter la requete\n",
        "  renvoie les résultats de la requetes sous forme de liste\n",
        "  \"\"\"\n",
        "  connexion = database_connexion(db)\n",
        "  sql_liste = lire_fichier(path + \"/\" + file)\n",
        "  sql = \"\"\n",
        "  for i in range(len(sql_liste) -1):\n",
        "    sql += sql_liste[i][:-1] + \" \"\n",
        "  sql += sql_liste[-1]\n",
        "  result = run_sql(connexion, sql)\n",
        "  database_deconnexion(connexion)\n",
        "  return result"
      ],
      "outputs": [],
      "execution_count": 4,
      "metadata": {
        "collapsed": true,
        "jupyter": {
          "source_hidden": false,
          "outputs_hidden": false
        },
        "nteract": {
          "transient": {
            "deleting": false
          }
        },
        "execution": {
          "iopub.status.busy": "2021-02-16T12:57:17.074Z",
          "iopub.execute_input": "2021-02-16T12:57:17.128Z",
          "iopub.status.idle": "2021-02-16T12:57:17.191Z",
          "shell.execute_reply": "2021-02-16T12:57:17.215Z"
        }
      }
    },
    {
      "cell_type": "code",
      "source": [
        "import tkinter\n",
        "\n",
        "def affichage(texte, titre = \"Requêtes tables\"):\n",
        "\t\"\"\"\n",
        "\tAffiche un texte (résultat d'une requête)\n",
        "\tdans une fenêtre tkinter\n",
        "\tAuteurs: M CHOUCHI\n",
        "\tArguments:\n",
        "\t\ttexte: str du texte à afficher\n",
        "\t\ttitre: str du titre de la fenêtre\n",
        "\tRenvoi:\n",
        "\t\trien\n",
        "\t\"\"\"\n",
        "\troot = tkinter.Tk()\n",
        "\troot.title(str(titre))\n",
        "\tRWidth=root.winfo_screenwidth() - 100\n",
        "\tRHeight=root.winfo_screenheight() - 100\n",
        "\troot.geometry(\"%dx%d+50+0\"%(RWidth, RHeight))\n",
        "\ttext=tkinter.Text(root, wrap = 'none')\n",
        "\tscroll_x=tkinter.Scrollbar(text.master, orient='horizontal', command = text.xview)\n",
        "\tscroll_x.config(command = text.xview)\n",
        "\ttext.configure(xscrollcommand = scroll_x.set)\n",
        "\tscroll_x.pack(side = 'bottom', fill = 'x', anchor = 'w')\n",
        "\tscroll_y = tkinter.Scrollbar(text.master)\n",
        "\tscroll_y.config(command = text.yview)\n",
        "\ttext.configure(yscrollcommand = scroll_y.set)\n",
        "\tscroll_y.pack(side = tkinter.RIGHT, fill = 'y')\n",
        "\ttext.insert(\"1.0\", texte)\n",
        "\ttext.pack(side = tkinter.LEFT, expand = True, fill = tkinter.BOTH)\n",
        "\troot.mainloop()"
      ],
      "outputs": [
        {
          "output_type": "error",
          "ename": "ModuleNotFoundError",
          "evalue": "No module named 'tkinter'",
          "traceback": [
            "\u001b[1;31m---------------------------------------------------------------------------\u001b[0m",
            "\u001b[1;31mModuleNotFoundError\u001b[0m                       Traceback (most recent call last)",
            "\u001b[1;32m<ipython-input-3-1db0bd4dfe86>\u001b[0m in \u001b[0;36m<module>\u001b[1;34m\u001b[0m\n\u001b[0;32m      8\u001b[0m \u001b[1;31m#       imports\u001b[0m\u001b[1;33m\u001b[0m\u001b[1;33m\u001b[0m\u001b[1;33m\u001b[0m\u001b[0m\n\u001b[0;32m      9\u001b[0m \u001b[1;31m########################################################################\u001b[0m\u001b[1;33m\u001b[0m\u001b[1;33m\u001b[0m\u001b[1;33m\u001b[0m\u001b[0m\n\u001b[1;32m---> 10\u001b[1;33m \u001b[1;32mimport\u001b[0m \u001b[0mtkinter\u001b[0m\u001b[1;33m\u001b[0m\u001b[1;33m\u001b[0m\u001b[0m\n\u001b[0m\u001b[0;32m     11\u001b[0m \u001b[1;32mimport\u001b[0m \u001b[0mos\u001b[0m\u001b[1;33m\u001b[0m\u001b[1;33m\u001b[0m\u001b[0m\n\u001b[0;32m     12\u001b[0m \u001b[1;33m\u001b[0m\u001b[0m\n",
            "\u001b[1;31mModuleNotFoundError\u001b[0m: No module named 'tkinter'"
          ]
        }
      ],
      "execution_count": 3,
      "metadata": {
        "collapsed": true,
        "jupyter": {
          "source_hidden": false,
          "outputs_hidden": false
        },
        "nteract": {
          "transient": {
            "deleting": false
          }
        },
        "execution": {
          "shell.execute_reply": "2021-02-15T09:28:41.484Z",
          "iopub.status.busy": "2021-02-16T12:50:09.718Z",
          "iopub.execute_input": "2021-02-16T12:50:09.747Z",
          "iopub.status.idle": "2021-02-15T09:28:41.469Z"
        }
      }
    },
    {
      "cell_type": "code",
      "source": [
        "\n"
      ],
      "outputs": [],
      "execution_count": null,
      "metadata": {
        "collapsed": true,
        "jupyter": {
          "source_hidden": false,
          "outputs_hidden": false
        },
        "nteract": {
          "transient": {
            "deleting": false
          }
        }
      }
    },
    {
      "cell_type": "code",
      "source": [],
      "outputs": [],
      "execution_count": null,
      "metadata": {
        "collapsed": true,
        "jupyter": {
          "source_hidden": false,
          "outputs_hidden": false
        },
        "nteract": {
          "transient": {
            "deleting": false
          }
        }
      }
    },
    {
      "cell_type": "code",
      "source": [],
      "outputs": [],
      "execution_count": null,
      "metadata": {
        "collapsed": true,
        "jupyter": {
          "source_hidden": false,
          "outputs_hidden": false
        },
        "nteract": {
          "transient": {
            "deleting": false
          }
        }
      }
    },
    {
      "cell_type": "code",
      "source": [],
      "outputs": [],
      "execution_count": null,
      "metadata": {
        "collapsed": true,
        "jupyter": {
          "source_hidden": false,
          "outputs_hidden": false
        },
        "nteract": {
          "transient": {
            "deleting": false
          }
        }
      }
    },
    {
      "cell_type": "code",
      "source": [],
      "outputs": [],
      "execution_count": null,
      "metadata": {
        "collapsed": true,
        "jupyter": {
          "source_hidden": false,
          "outputs_hidden": false
        },
        "nteract": {
          "transient": {
            "deleting": false
          }
        }
      }
    },
    {
      "cell_type": "code",
      "source": [],
      "outputs": [],
      "execution_count": null,
      "metadata": {
        "collapsed": true,
        "jupyter": {
          "source_hidden": false,
          "outputs_hidden": false
        },
        "nteract": {
          "transient": {
            "deleting": false
          }
        }
      }
    },
    {
      "cell_type": "code",
      "source": [],
      "outputs": [],
      "execution_count": null,
      "metadata": {
        "collapsed": true,
        "jupyter": {
          "source_hidden": false,
          "outputs_hidden": false
        },
        "nteract": {
          "transient": {
            "deleting": false
          }
        }
      }
    },
    {
      "cell_type": "code",
      "source": [],
      "outputs": [],
      "execution_count": null,
      "metadata": {
        "collapsed": true,
        "jupyter": {
          "source_hidden": false,
          "outputs_hidden": false
        },
        "nteract": {
          "transient": {
            "deleting": false
          }
        }
      }
    },
    {
      "cell_type": "code",
      "source": [],
      "outputs": [],
      "execution_count": null,
      "metadata": {
        "collapsed": true,
        "jupyter": {
          "source_hidden": false,
          "outputs_hidden": false
        },
        "nteract": {
          "transient": {
            "deleting": false
          }
        }
      }
    },
    {
      "cell_type": "code",
      "source": [],
      "outputs": [],
      "execution_count": null,
      "metadata": {
        "collapsed": true,
        "jupyter": {
          "source_hidden": false,
          "outputs_hidden": false
        },
        "nteract": {
          "transient": {
            "deleting": false
          }
        }
      }
    },
    {
      "cell_type": "code",
      "source": [],
      "outputs": [],
      "execution_count": null,
      "metadata": {
        "collapsed": true,
        "jupyter": {
          "source_hidden": false,
          "outputs_hidden": false
        },
        "nteract": {
          "transient": {
            "deleting": false
          }
        }
      }
    },
    {
      "cell_type": "code",
      "source": [],
      "outputs": [],
      "execution_count": null,
      "metadata": {
        "collapsed": true,
        "jupyter": {
          "source_hidden": false,
          "outputs_hidden": false
        },
        "nteract": {
          "transient": {
            "deleting": false
          }
        }
      }
    }
  ],
  "metadata": {
    "kernel_info": {
      "name": "python3"
    },
    "language_info": {
      "name": "python",
      "version": "3.8.5",
      "mimetype": "text/x-python",
      "codemirror_mode": {
        "name": "ipython",
        "version": 3
      },
      "pygments_lexer": "ipython3",
      "nbconvert_exporter": "python",
      "file_extension": ".py"
    },
    "kernelspec": {
      "argv": [
        "C:\\Winpython\\python-3.8.5.amd64\\python.exe",
        "-m",
        "ipykernel_launcher",
        "-f",
        "{connection_file}"
      ],
      "display_name": "Python 3",
      "language": "python",
      "name": "python3"
    },
    "nteract": {
      "version": "0.28.0"
    }
  },
  "nbformat": 4,
  "nbformat_minor": 0
}