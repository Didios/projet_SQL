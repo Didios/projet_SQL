{
  "cells": [
    {
      "cell_type": "code",
      "source": [
        "#Utiliser une base de données\n",
        "\n",
        "import sqlite3\n",
        "conn = sqlite3.connect('imdb.db')\n",
        "c = conn.cursor()\n",
        "c.execute(\"select * from name_basics limit 10\")\n",
        "for row in c:\n",
        "  print(row)\n",
        "conn.close()"
      ],
      "outputs": [
        {
          "output_type": "stream",
          "name": "stdout",
          "text": [
            "(1, 'Fred Astaire', 1899, 1987, 'soundtrack,actor,miscellaneous')\n",
            "(2, 'Lauren Bacall', 1924, 2014, 'actress,soundtrack')\n",
            "(3, 'Brigitte Bardot', 1934, None, 'actress,soundtrack,music_department')\n",
            "(4, 'John Belushi', 1949, 1982, 'actor,soundtrack,writer')\n",
            "(5, 'Ingmar Bergman', 1918, 2007, 'writer,director,actor')\n",
            "(6, 'Ingrid Bergman', 1915, 1982, 'actress,soundtrack,producer')\n",
            "(7, 'Humphrey Bogart', 1899, 1957, 'actor,soundtrack,producer')\n",
            "(8, 'Marlon Brando', 1924, 2004, 'actor,soundtrack,director')\n",
            "(9, 'Richard Burton', 1925, 1984, 'actor,soundtrack,producer')\n",
            "(10, 'James Cagney', 1899, 1986, 'actor,soundtrack,director')\n"
          ]
        }
      ],
      "execution_count": 13,
      "metadata": {
        "collapsed": true,
        "jupyter": {
          "source_hidden": false,
          "outputs_hidden": false
        },
        "nteract": {
          "transient": {
            "deleting": false
          }
        },
        "execution": {
          "shell.execute_reply": "2021-02-06T11:16:03.277Z",
          "iopub.status.busy": "2021-02-06T11:16:03.197Z",
          "iopub.execute_input": "2021-02-06T11:16:03.213Z",
          "iopub.status.idle": "2021-02-06T11:16:03.262Z"
        }
      }
    },
    {
      "cell_type": "code",
      "source": [
        "#Etapes pour afficher une table SQL\n",
        "\n",
        "import sqlite3\n",
        "conn = sqlite3.connect('imdb.db')\n",
        "c = conn.cursor()\n",
        "c.execute(\"select * from name_basics limit 10\")\n",
        "\n",
        "def tableSQL_tableau(sql):\n",
        "  \"\"\"\n",
        "  fonction qui convertit un tableau sqlite3 en tableau python\n",
        "  parametres:\n",
        "             sql, un tableau sqlite3\n",
        "  renvoie une liste python (dont chaque élément est une ligne de 'sql')\n",
        "  \"\"\"\n",
        "  tableau = []\n",
        "  for ligne in sql:\n",
        "    tableau += [ligne]\n",
        "  return tableau\n",
        "\n",
        "sortie = tableSQL_tableau(c)\n",
        "conn.close()\n",
        "\n",
        "def taille_colonne(tableau):\n",
        "  \"\"\"\n",
        "  fonction qui renvoie la taille minimale que doit avoir chaque colonne du tableau à afficher\n",
        "  parametres:\n",
        "             tableau, une liste de liste python\n",
        "  renvoie une liste de valeur\n",
        "  \"\"\"\n",
        "  longueur_colonne = [0] * len(tableau[0])\n",
        "  for ligne in tableau:\n",
        "    for column in range(len(ligne)):\n",
        "      if len(str(ligne[column])) > longueur_colonne[column]:\n",
        "        longueur_colonne[column] = len(str(ligne[column]))\n",
        "  for i in range(len(longueur_colonne)):\n",
        "    longueur_colonne[i] += 1    \n",
        "  return longueur_colonne\n",
        "\n",
        "taille = taille_colonne(sortie)\n",
        "\n",
        "def separation(dimension):\n",
        "  \"\"\"\n",
        "  fonction qui renvoie la representation d'un trait entre deux lignes d'un tableau\n",
        "  parametres:\n",
        "             dimension, une liste de valeur\n",
        "  renvoie une chaine de caracteres\n",
        "  \"\"\"\n",
        "  ligne_separation = \"+\"\n",
        "  for column in dimension:\n",
        "    ligne_separation += \"-\" * column\n",
        "    ligne_separation += \"+\"\n",
        "  return ligne_separation\n",
        "  \n",
        "ligne = separation(taille)\n",
        "\n",
        "def afficher_ligne(ligne, dimension):\n",
        "  \"\"\"\n",
        "  fonction qui permet d'afficher un tableau avec une ligne seulement avec des dimension de colonnes précise\n",
        "  parametres:\n",
        "             ligne, une liste\n",
        "             dimension, une liste\n",
        "  affiche la ligne au format ascii\n",
        "  \"\"\"\n",
        "  chaine = \"|\"\n",
        "  for column in range(len(ligne)):\n",
        "    chaine += str(ligne[column])\n",
        "    chaine += \" \" * (dimension[column] - len(str(ligne[column])))\n",
        "    chaine += \"|\"\n",
        "  print(chaine)\n",
        "  \n",
        "print(ligne)\n",
        "afficher_ligne(sortie[0], taille)\n",
        "print(ligne)"
      ],
      "outputs": [
        {
          "output_type": "stream",
          "name": "stdout",
          "text": [
            "+---+----------------+-----+-----+------------------------------------+\n",
            "|1  |Fred Astaire    |1899 |1987 |soundtrack,actor,miscellaneous      |\n",
            "+---+----------------+-----+-----+------------------------------------+\n"
          ]
        }
      ],
      "execution_count": 45,
      "metadata": {
        "collapsed": true,
        "jupyter": {
          "source_hidden": false,
          "outputs_hidden": false
        },
        "nteract": {
          "transient": {
            "deleting": false
          }
        },
        "execution": {
          "iopub.status.busy": "2021-02-06T11:55:41.009Z",
          "iopub.execute_input": "2021-02-06T11:55:41.022Z",
          "shell.execute_reply": "2021-02-06T11:55:41.066Z",
          "iopub.status.idle": "2021-02-06T11:55:41.055Z"
        }
      }
    },
    {
      "cell_type": "code",
      "source": [
        "#fonction finale\n",
        "\n",
        "def afficher_table(table, debut = 0, fin = None):\n",
        "  \"\"\"\n",
        "  fonction que affiche une table sql, avec la possibilité de choisir l'intervalle de ligne à afficher\n",
        "  parametres:\n",
        "             table, une table sqlite3\n",
        "             debut (optionnel), un nombre entier\n",
        "             fin (optionnel), un nombre entier\n",
        "  affiche la partie du tableau souhaiter, par défaut son entièreté\n",
        "  \"\"\"\n",
        "  if type(table) != list:\n",
        "    sortie = tableSQL_tableau(table)\n",
        "  else:\n",
        "    sortie = table\n",
        "  dimension_colonne = taille_colonne(sortie)\n",
        "  separation_ligne = separation(dimension_colonne)\n",
        "  if fin == None or fin > len(sortie):\n",
        "    fin = len(sortie)\n",
        "  if debut != 0:\n",
        "    debut -= 1\n",
        "  if debut < 1:\n",
        "    debut = 0\n",
        "  print(separation_ligne)\n",
        "  for ligne in range(debut, fin):\n",
        "    afficher_ligne(sortie[ligne], dimension_colonne)\n",
        "    print(separation_ligne)  \n",
        "    \n",
        "\n",
        "import sqlite3\n",
        "conn = sqlite3.connect('imdb.db')\n",
        "c = conn.cursor()\n",
        "c.execute(\"select * from name_basics limit 10\")\n",
        "afficher_table(c,6,8)\n",
        "conn.close()"
      ],
      "outputs": [
        {
          "output_type": "stream",
          "name": "stdout",
          "text": [
            "+---+----------------+-----+-----+------------------------------------+\n",
            "|6  |Ingrid Bergman  |1915 |1982 |actress,soundtrack,producer         |\n",
            "+---+----------------+-----+-----+------------------------------------+\n",
            "|7  |Humphrey Bogart |1899 |1957 |actor,soundtrack,producer           |\n",
            "+---+----------------+-----+-----+------------------------------------+\n",
            "|8  |Marlon Brando   |1924 |2004 |actor,soundtrack,director           |\n",
            "+---+----------------+-----+-----+------------------------------------+\n"
          ]
        }
      ],
      "execution_count": 64,
      "metadata": {
        "collapsed": true,
        "jupyter": {
          "source_hidden": false,
          "outputs_hidden": false
        },
        "nteract": {
          "transient": {
            "deleting": false
          }
        },
        "execution": {
          "iopub.status.busy": "2021-02-06T12:13:36.893Z",
          "iopub.execute_input": "2021-02-06T12:13:36.904Z",
          "iopub.status.idle": "2021-02-06T12:13:36.930Z",
          "shell.execute_reply": "2021-02-06T12:13:36.941Z"
        }
      }
    },
    {
      "cell_type": "code",
      "source": [
        "# Pour n'avoir qu'une partie du tableau\n",
        "# A améliorer, notamment sur le 'pbm' d'affichega avec des colonnes trop grande \n",
        "\n",
        "def projection_table(table, *args):\n",
        "  \"\"\"\n",
        "  fonction permettent de faire une projection dur un tableau sql\n",
        "  parametres:\n",
        "             table, une table sqlite3\n",
        "             args, une liste d'entier\n",
        "  renvoie une liste avec les colonne selectionner\n",
        "  \"\"\"\n",
        "  tableau = tableSQL_tableau(table)\n",
        "  return [[ligne[column] for column in args] for ligne in tableau]\n",
        "  \n",
        "import sqlite3\n",
        "conn = sqlite3.connect('imdb.db')\n",
        "c = conn.cursor()\n",
        "c.execute(\"select * from name_basics limit 10\")\n",
        "t = conn.cursor()\n",
        "t.execute(\"select * from name_basics limit 10\")\n",
        "afficher_table(c, 6)\n",
        "afficher_table(projection_table(t,1,4), 6) \n",
        "conn.close()"
      ],
      "outputs": [
        {
          "output_type": "stream",
          "name": "stdout",
          "text": [
            "+---+----------------+-----+-----+------------------------------------+\n",
            "|6  |Ingrid Bergman  |1915 |1982 |actress,soundtrack,producer         |\n",
            "+---+----------------+-----+-----+------------------------------------+\n",
            "|7  |Humphrey Bogart |1899 |1957 |actor,soundtrack,producer           |\n",
            "+---+----------------+-----+-----+------------------------------------+\n",
            "|8  |Marlon Brando   |1924 |2004 |actor,soundtrack,director           |\n",
            "+---+----------------+-----+-----+------------------------------------+\n",
            "|9  |Richard Burton  |1925 |1984 |actor,soundtrack,producer           |\n",
            "+---+----------------+-----+-----+------------------------------------+\n",
            "|10 |James Cagney    |1899 |1986 |actor,soundtrack,director           |\n",
            "+---+----------------+-----+-----+------------------------------------+\n",
            "+----------------+------------------------------------+\n",
            "|Ingrid Bergman  |actress,soundtrack,producer         |\n",
            "+----------------+------------------------------------+\n",
            "|Humphrey Bogart |actor,soundtrack,producer           |\n",
            "+----------------+------------------------------------+\n",
            "|Marlon Brando   |actor,soundtrack,director           |\n",
            "+----------------+------------------------------------+\n",
            "|Richard Burton  |actor,soundtrack,producer           |\n",
            "+----------------+------------------------------------+\n",
            "|James Cagney    |actor,soundtrack,director           |\n",
            "+----------------+------------------------------------+\n"
          ]
        }
      ],
      "execution_count": 105,
      "metadata": {
        "collapsed": true,
        "jupyter": {
          "source_hidden": false,
          "outputs_hidden": false
        },
        "nteract": {
          "transient": {
            "deleting": false
          }
        },
        "execution": {
          "iopub.status.busy": "2021-02-06T12:52:50.002Z",
          "iopub.execute_input": "2021-02-06T12:52:50.026Z",
          "iopub.status.idle": "2021-02-06T12:52:50.074Z",
          "shell.execute_reply": "2021-02-06T12:52:50.086Z"
        }
      }
    },
    {
      "cell_type": "code",
      "source": [
        "# pour melanger 2 table\n",
        "\n",
        "def produit_cartesien(table1, table2):\n",
        "  \"\"\"\n",
        "  fonction permettant de faire le produit cartesien de 2 tables sql\n",
        "  parametres:\n",
        "             table1, une table sql\n",
        "             table2, une autre table sql\n",
        "  renvoie une liste\n",
        "  \"\"\"\n",
        "  tableau1 = tableSQL_tableau(table1)\n",
        "  tableau2 = tableSQL_tableau(table2)\n",
        "  tableau = []\n",
        "  for ligne1 in tableau1:\n",
        "    for ligne2 in tableau2:\n",
        "      tableau += [ligne1 + ligne2]\n",
        "  return tableau\n",
        "\n",
        "import sqlite3\n",
        "conn = sqlite3.connect('imdb.db')\n",
        "c = conn.cursor()\n",
        "c1 = conn.cursor()\n",
        "c.execute(\"select * from title_basics limit 2\")\n",
        "c1.execute(\"select * from title_basics limit 2\")\n",
        "t = conn.cursor()\n",
        "t1 = conn.cursor()\n",
        "t.execute(\"select * from title_ratings limit 3\")\n",
        "t1.execute(\"select * from title_ratings limit 3\")\n",
        "afficher_table(c)\n",
        "afficher_table(t)\n",
        "afficher_table(produit_cartesien(c1, t1))\n",
        "conn.close()"
      ],
      "outputs": [
        {
          "output_type": "stream",
          "name": "stdout",
          "text": [
            "+---+------+--------------------+------------------------------------+--+-----+-----+--+-------------------------+\n",
            "|3  |short |Pauvre Pierrot      |Pauvre Pierrot                      |0 |1892 |None |4 |Animation,Comedy,Romance |\n",
            "+---+------+--------------------+------------------------------------+--+-----+-----+--+-------------------------+\n",
            "|10 |short |Leaving the Factory |La sortie de l'usine Lumière à Lyon |0 |1895 |None |1 |Documentary,Short        |\n",
            "+---+------+--------------------+------------------------------------+--+-----+-----+--+-------------------------+\n",
            "+---+----+------+\n",
            "|3  |6.5 |1396  |\n",
            "+---+----+------+\n",
            "|10 |6.9 |6155  |\n",
            "+---+----+------+\n",
            "|12 |7.4 |10552 |\n",
            "+---+----+------+\n",
            "+---+------+--------------------+------------------------------------+--+-----+-----+--+-------------------------+---+----+------+\n",
            "|3  |short |Pauvre Pierrot      |Pauvre Pierrot                      |0 |1892 |None |4 |Animation,Comedy,Romance |3  |6.5 |1396  |\n",
            "+---+------+--------------------+------------------------------------+--+-----+-----+--+-------------------------+---+----+------+\n",
            "|3  |short |Pauvre Pierrot      |Pauvre Pierrot                      |0 |1892 |None |4 |Animation,Comedy,Romance |10 |6.9 |6155  |\n",
            "+---+------+--------------------+------------------------------------+--+-----+-----+--+-------------------------+---+----+------+\n",
            "|3  |short |Pauvre Pierrot      |Pauvre Pierrot                      |0 |1892 |None |4 |Animation,Comedy,Romance |12 |7.4 |10552 |\n",
            "+---+------+--------------------+------------------------------------+--+-----+-----+--+-------------------------+---+----+------+\n",
            "|10 |short |Leaving the Factory |La sortie de l'usine Lumière à Lyon |0 |1895 |None |1 |Documentary,Short        |3  |6.5 |1396  |\n",
            "+---+------+--------------------+------------------------------------+--+-----+-----+--+-------------------------+---+----+------+\n",
            "|10 |short |Leaving the Factory |La sortie de l'usine Lumière à Lyon |0 |1895 |None |1 |Documentary,Short        |10 |6.9 |6155  |\n",
            "+---+------+--------------------+------------------------------------+--+-----+-----+--+-------------------------+---+----+------+\n",
            "|10 |short |Leaving the Factory |La sortie de l'usine Lumière à Lyon |0 |1895 |None |1 |Documentary,Short        |12 |7.4 |10552 |\n",
            "+---+------+--------------------+------------------------------------+--+-----+-----+--+-------------------------+---+----+------+\n"
          ]
        }
      ],
      "execution_count": 108,
      "metadata": {
        "collapsed": true,
        "jupyter": {
          "source_hidden": false,
          "outputs_hidden": false
        },
        "nteract": {
          "transient": {
            "deleting": false
          }
        },
        "execution": {
          "iopub.status.busy": "2021-02-06T13:04:52.170Z",
          "iopub.execute_input": "2021-02-06T13:04:52.190Z",
          "iopub.status.idle": "2021-02-06T13:04:52.259Z",
          "shell.execute_reply": "2021-02-06T13:04:52.276Z"
        }
      }
    },
    {
      "cell_type": "code",
      "source": [
        "import sqlite3\n",
        "\n",
        "class database:\n",
        "#https://docs.python.org/3/library/sqlite3.html\n",
        "  def__init__(self, base):\n",
        "    self.base = \"\"\n",
        "    \n",
        "  def connexion(self):\n",
        "    self.con = .sqlite3.connect(self.base)\n",
        "    self.cur = self.con.cursor()\n",
        "    \n",
        "  def deconnexion(self):\n",
        "    self.con.close()\n",
        "    \n",
        "  def fetch(self,sql):\n",
        "    self.connexion()\n",
        "    self.cur.execute(sql)\n",
        "    result = self.cur.fetchall()\n",
        "    self.deconnexion()\n",
        "    return result\n",
        "  \n",
        "  def execute(self,sql):\n",
        "    self.connexion()\n",
        "    self.cur.execute(sql)\n",
        "    self.deconnexion()\n",
        "    \n",
        "  def chargersql():\n",
        "    pass\n",
        "  \n",
        "  def afficher_table():\n",
        "    pass\n",
        "  \n",
        "  def listedesrequetes():\n",
        "    pass\n",
        "  \n",
        "  def infotable():\n",
        "    pass \n",
        "  \n",
        "  def informations_base():\n",
        "    pass\n",
        "  \n",
        "  def...:\n",
        "    pass"
      ],
      "outputs": [],
      "execution_count": null,
      "metadata": {
        "collapsed": true,
        "jupyter": {
          "source_hidden": false,
          "outputs_hidden": false
        },
        "nteract": {
          "transient": {
            "deleting": false
          }
        }
      }
    },
    {
      "cell_type": "code",
      "source": [],
      "outputs": [],
      "execution_count": null,
      "metadata": {
        "collapsed": true,
        "jupyter": {
          "source_hidden": false,
          "outputs_hidden": false
        },
        "nteract": {
          "transient": {
            "deleting": false
          }
        }
      }
    },
    {
      "cell_type": "code",
      "source": [],
      "outputs": [],
      "execution_count": null,
      "metadata": {
        "collapsed": true,
        "jupyter": {
          "source_hidden": false,
          "outputs_hidden": false
        },
        "nteract": {
          "transient": {
            "deleting": false
          }
        }
      }
    }
  ],
  "metadata": {
    "kernel_info": {
      "name": "python3"
    },
    "language_info": {
      "name": "python",
      "version": "3.8.5",
      "mimetype": "text/x-python",
      "codemirror_mode": {
        "name": "ipython",
        "version": 3
      },
      "pygments_lexer": "ipython3",
      "nbconvert_exporter": "python",
      "file_extension": ".py"
    },
    "kernelspec": {
      "argv": [
        "C:\\Winpython\\python-3.8.5.amd64\\python.exe",
        "-m",
        "ipykernel_launcher",
        "-f",
        "{connection_file}"
      ],
      "display_name": "Python 3",
      "language": "python",
      "name": "python3"
    },
    "nteract": {
      "version": "0.28.0"
    }
  },
  "nbformat": 4,
  "nbformat_minor": 0
}