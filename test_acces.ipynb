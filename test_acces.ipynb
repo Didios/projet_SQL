{
  "cells": [
    {
      "cell_type": "code",
      "source": [
        "import os\n",
        "import os.path\n",
        "\n",
        "def fichier_existe(path, file = \"\"):\n",
        "  \"\"\"\n",
        "  fonction permettant de connaitre l'existence d'un répertoire ou d'un fichier\n",
        "  parametres:\n",
        "             path, le chemin vers le répertoire souhaité sous forme de chaine de caracteres\n",
        "             file, optionnel, le nom du fichier pour lequel vérifier l'existence dans path\n",
        "  renvoie un booléen, True si le répertoire/fichier existe et False sinon\n",
        "  \"\"\"\n",
        "  if os.path.isdir(path):\n",
        "    if file == \"\" or os.path.isfile(path + \"/\" + file):\n",
        "      return True\n",
        "    else:\n",
        "      return False\n",
        "  else:\n",
        "    return False\n",
        "  "
      ],
      "outputs": [],
      "execution_count": 41,
      "metadata": {
        "collapsed": true,
        "jupyter": {
          "source_hidden": false,
          "outputs_hidden": false
        },
        "nteract": {
          "transient": {
            "deleting": false
          }
        },
        "execution": {
          "shell.execute_reply": "2021-02-12T13:01:23.285Z",
          "iopub.status.busy": "2021-02-12T13:01:23.250Z",
          "iopub.execute_input": "2021-02-12T13:01:23.261Z",
          "iopub.status.idle": "2021-02-12T13:01:23.276Z"
        }
      }
    },
    {
      "cell_type": "code",
      "source": [
        "print(fichier_existe(\"requetes\", \"req1.sql\"))\n",
        "print(fichier_existe(\"requtes\", \"req1.sql\"))\n",
        "print(fichier_existe(\"requetes\"))\n",
        "print(fichier_existe(\"requetes\", \"req.sql\"))"
      ],
      "outputs": [
        {
          "output_type": "stream",
          "name": "stdout",
          "text": [
            "True\n",
            "False\n",
            "True\n",
            "False\n"
          ]
        }
      ],
      "execution_count": 43,
      "metadata": {
        "collapsed": true,
        "jupyter": {
          "source_hidden": false,
          "outputs_hidden": false
        },
        "nteract": {
          "transient": {
            "deleting": false
          }
        },
        "execution": {
          "iopub.status.busy": "2021-02-12T13:01:53.490Z",
          "iopub.execute_input": "2021-02-12T13:01:53.503Z",
          "iopub.status.idle": "2021-02-12T13:01:53.530Z",
          "shell.execute_reply": "2021-02-12T13:01:53.545Z"
        }
      }
    },
    {
      "cell_type": "code",
      "source": [
        "import os\n",
        "os.listdir(\"requetes\")"
      ],
      "outputs": [
        {
          "output_type": "execute_result",
          "execution_count": 5,
          "data": {
            "text/plain": "['alire.md',\n 'req1.sql',\n 'req10.sql',\n 'req11.sql',\n 'req12.sql',\n 'req13.sql',\n 'req14.sql',\n 'req15.sql',\n 'req16.sql',\n 'req17.sql',\n 'req18.sql',\n 'req19.sql',\n 'req2.sql',\n 'req20.sql',\n 'req21.sql',\n 'req3.sql',\n 'req4.sql',\n 'req5.sql',\n 'req6.sql',\n 'req7.sql',\n 'req8.sql',\n 'req9.sql']"
          },
          "metadata": {}
        }
      ],
      "execution_count": 5,
      "metadata": {
        "collapsed": true,
        "jupyter": {
          "source_hidden": false,
          "outputs_hidden": false
        },
        "nteract": {
          "transient": {
            "deleting": false
          }
        },
        "execution": {
          "iopub.status.busy": "2021-02-12T12:39:43.674Z",
          "iopub.execute_input": "2021-02-12T12:39:43.688Z",
          "iopub.status.idle": "2021-02-12T12:39:43.832Z",
          "shell.execute_reply": "2021-02-12T12:39:43.844Z"
        }
      }
    },
    {
      "cell_type": "code",
      "source": [
        "import sqlite3\n",
        "\n",
        "def test_connexion(db):\n",
        "  \"\"\"\n",
        "  fonction permettant de savoir si une base de données peut-être connectées\n",
        "  parametres:\n",
        "             db, une chaine de caracteres avec le chemin d'accés à la base\n",
        "  renvoie un booléen\n",
        "  \"\"\"\n",
        "  try:\n",
        "    conn = sqlite3.connect(db)\n",
        "  except:\n",
        "    return False\n",
        "  \n",
        "  conn.close()\n",
        "  return True"
      ],
      "outputs": [],
      "execution_count": 13,
      "metadata": {
        "collapsed": true,
        "jupyter": {
          "source_hidden": false,
          "outputs_hidden": false
        },
        "nteract": {
          "transient": {
            "deleting": false
          }
        },
        "execution": {
          "iopub.status.busy": "2021-02-12T13:19:31.041Z",
          "iopub.execute_input": "2021-02-12T13:19:31.056Z",
          "iopub.status.idle": "2021-02-12T13:19:31.078Z",
          "shell.execute_reply": "2021-02-12T13:19:31.091Z"
        }
      }
    },
    {
      "cell_type": "code",
      "source": [
        "print(test_connexion(\"imdb.db\"))"
      ],
      "outputs": [
        {
          "output_type": "stream",
          "name": "stdout",
          "text": [
            "True\n"
          ]
        }
      ],
      "execution_count": 17,
      "metadata": {
        "collapsed": true,
        "jupyter": {
          "source_hidden": false,
          "outputs_hidden": false
        },
        "nteract": {
          "transient": {
            "deleting": false
          }
        },
        "execution": {
          "iopub.status.busy": "2021-02-12T13:20:18.560Z",
          "iopub.execute_input": "2021-02-12T13:20:18.574Z",
          "iopub.status.idle": "2021-02-12T13:20:18.613Z",
          "shell.execute_reply": "2021-02-12T13:20:18.627Z"
        }
      }
    },
    {
      "cell_type": "code",
      "source": [
        "import sqlite3\n",
        "\n",
        "def connexion(db):\n",
        "  \"\"\"\n",
        "  fonction permettant de se connecter à une base de données\n",
        "  parametres:\n",
        "             db, une chaine de caracteres contenant le chemin d'accés à la base\n",
        "  renvoie la connexion à la base\n",
        "  \"\"\"\n",
        "  if test_connexion(db):\n",
        "    conn = sqlite3.connect(db)\n",
        "    return conn"
      ],
      "outputs": [],
      "execution_count": 18,
      "metadata": {
        "collapsed": true,
        "jupyter": {
          "source_hidden": false,
          "outputs_hidden": false
        },
        "nteract": {
          "transient": {
            "deleting": false
          }
        },
        "execution": {
          "iopub.status.busy": "2021-02-12T13:22:12.424Z",
          "iopub.execute_input": "2021-02-12T13:22:12.444Z",
          "iopub.status.idle": "2021-02-12T13:22:12.471Z",
          "shell.execute_reply": "2021-02-12T13:22:12.484Z"
        }
      }
    },
    {
      "cell_type": "code",
      "source": [
        "import sqlite3\n",
        "\n",
        "def database_connexion(db_file):\n",
        "  connexion = None\n",
        "  try:\n",
        "    connexion = sqlite3.connect(db_file)\n",
        "  except Error as e:\n",
        "    return e\n",
        "  \n",
        "  return connexion"
      ],
      "outputs": [],
      "execution_count": 31,
      "metadata": {
        "collapsed": true,
        "jupyter": {
          "source_hidden": false,
          "outputs_hidden": false
        },
        "nteract": {
          "transient": {
            "deleting": false
          }
        },
        "execution": {
          "iopub.status.busy": "2021-02-12T13:36:19.012Z",
          "iopub.execute_input": "2021-02-12T13:36:19.027Z",
          "iopub.status.idle": "2021-02-12T13:36:19.073Z",
          "shell.execute_reply": "2021-02-12T13:36:19.097Z"
        }
      }
    },
    {
      "cell_type": "code",
      "source": [
        "import sqlite3\n",
        "\n",
        "def database_deconnexion(connexion):\n",
        "  connexion.close()"
      ],
      "outputs": [],
      "execution_count": 32,
      "metadata": {
        "collapsed": true,
        "jupyter": {
          "source_hidden": false,
          "outputs_hidden": false
        },
        "nteract": {
          "transient": {
            "deleting": false
          }
        },
        "execution": {
          "iopub.status.busy": "2021-02-12T13:36:20.481Z",
          "iopub.execute_input": "2021-02-12T13:36:20.497Z",
          "iopub.status.idle": "2021-02-12T13:36:20.519Z",
          "shell.execute_reply": "2021-02-12T13:36:20.536Z"
        }
      }
    },
    {
      "cell_type": "code",
      "source": [
        "import sqlite3\n",
        "\n",
        "def execute_sql(connexion, sql):\n",
        "  cur = connexion.cursor()\n",
        "  cur.execute(sql)\n",
        "  rows = cur.fetchall()\n",
        "  print(rows)\n",
        "  for row in rows:\n",
        "    print(row)\n",
        "    \n",
        "run_sql = execute_sql"
      ],
      "outputs": [],
      "execution_count": 33,
      "metadata": {
        "collapsed": true,
        "jupyter": {
          "source_hidden": false,
          "outputs_hidden": false
        },
        "nteract": {
          "transient": {
            "deleting": false
          }
        },
        "execution": {
          "iopub.status.busy": "2021-02-12T13:36:21.716Z",
          "iopub.execute_input": "2021-02-12T13:36:21.732Z",
          "iopub.status.idle": "2021-02-12T13:36:21.753Z",
          "shell.execute_reply": "2021-02-12T13:36:21.767Z"
        }
      }
    },
    {
      "cell_type": "code",
      "source": [
        "conn = database_connexion(\"imdb.db\")\n",
        "sql = \"SELECT DISTINCT titleType FROM title_basics LIMIT 5\"\n",
        "run_sql(conn, sql)\n",
        "database_deconnexion(conn)"
      ],
      "outputs": [
        {
          "output_type": "stream",
          "name": "stdout",
          "text": [
            "[('short',), ('movie',), ('tvSeries',), ('tvMiniSeries',), ('tvMovie',)]\n",
            "('short',)\n",
            "('movie',)\n",
            "('tvSeries',)\n",
            "('tvMiniSeries',)\n",
            "('tvMovie',)\n"
          ]
        }
      ],
      "execution_count": 34,
      "metadata": {
        "collapsed": true,
        "jupyter": {
          "source_hidden": false,
          "outputs_hidden": false
        },
        "nteract": {
          "transient": {
            "deleting": false
          }
        },
        "execution": {
          "iopub.status.busy": "2021-02-12T13:36:32.010Z",
          "iopub.execute_input": "2021-02-12T13:36:32.027Z",
          "iopub.status.idle": "2021-02-12T13:36:32.177Z",
          "shell.execute_reply": "2021-02-12T13:36:32.190Z"
        }
      }
    },
    {
      "cell_type": "code",
      "source": [],
      "outputs": [],
      "execution_count": null,
      "metadata": {
        "collapsed": true,
        "jupyter": {
          "source_hidden": false,
          "outputs_hidden": false
        },
        "nteract": {
          "transient": {
            "deleting": false
          }
        }
      }
    }
  ],
  "metadata": {
    "kernel_info": {
      "name": "python3"
    },
    "language_info": {
      "name": "python",
      "version": "3.8.5",
      "mimetype": "text/x-python",
      "codemirror_mode": {
        "name": "ipython",
        "version": 3
      },
      "pygments_lexer": "ipython3",
      "nbconvert_exporter": "python",
      "file_extension": ".py"
    },
    "kernelspec": {
      "argv": [
        "C:\\Winpython\\python-3.8.5.amd64\\python.exe",
        "-m",
        "ipykernel_launcher",
        "-f",
        "{connection_file}"
      ],
      "display_name": "Python 3",
      "language": "python",
      "name": "python3"
    },
    "nteract": {
      "version": "0.28.0"
    }
  },
  "nbformat": 4,
  "nbformat_minor": 0
}