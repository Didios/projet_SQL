{
  "cells": [
    {
      "cell_type": "code",
      "source": [
        "import os\n",
        "import os.path\n",
        "\n",
        "def fichier_existe(path):\n",
        "  \"\"\"\n",
        "  fonction permettant de connaitre l'existence d'un répertoire ou d'un fichier\n",
        "  parametres:\n",
        "             path, le chemin vers le répertoire souhaité sous forme de chaine de caracteres\n",
        "  renvoie un booléen, True si le répertoire/fichier existe et False sinon\n",
        "  \"\"\"\n",
        "  if \".\" in path and os.path.isfile(path):\n",
        "    return True\n",
        "  elif os.path.isdir(path):\n",
        "    return True\n",
        "  else:\n",
        "    return False  "
      ],
      "outputs": [],
      "execution_count": 1,
      "metadata": {
        "collapsed": true,
        "jupyter": {
          "source_hidden": false,
          "outputs_hidden": false
        },
        "nteract": {
          "transient": {
            "deleting": false
          }
        },
        "execution": {
          "shell.execute_reply": "2021-02-16T12:35:12.192Z",
          "iopub.status.busy": "2021-02-16T12:35:12.091Z",
          "iopub.execute_input": "2021-02-16T12:35:12.118Z",
          "iopub.status.idle": "2021-02-16T12:35:12.156Z"
        }
      }
    },
    {
      "cell_type": "code",
      "source": [
        "print(\"requetes/req1.sql :\", fichier_existe(\"requetes/req1.sql\"))\n",
        "print(\"requtes/req1.sql :\", fichier_existe(\"requtes/req1.sql\"))\n",
        "print(\"requetes :\", fichier_existe(\"requetes\"))\n",
        "print(\"requetes/req.sql :\", fichier_existe(\"requetes/req.sql\"))"
      ],
      "outputs": [
        {
          "output_type": "stream",
          "name": "stdout",
          "text": [
            "requetes/req1.sql : True\n",
            "requtes/req1.sql : False\n",
            "requetes : True\n",
            "requetes/req.sql : False\n"
          ]
        }
      ],
      "execution_count": 2,
      "metadata": {
        "collapsed": true,
        "jupyter": {
          "source_hidden": false,
          "outputs_hidden": false
        },
        "nteract": {
          "transient": {
            "deleting": false
          }
        },
        "execution": {
          "iopub.status.busy": "2021-02-16T12:35:12.694Z",
          "iopub.execute_input": "2021-02-16T12:35:12.718Z",
          "iopub.status.idle": "2021-02-16T12:35:12.770Z",
          "shell.execute_reply": "2021-02-16T12:35:12.797Z"
        }
      }
    },
    {
      "cell_type": "code",
      "source": [
        "import os\n",
        "\n",
        "def lire_fichier(file):\n",
        "  \"\"\"\n",
        "  fonction qui lit un fichier choisit\n",
        "  parametres:\n",
        "             file, une chaine de caracteres contenant le chemin vers le fichier à lire\n",
        "  renvoie une liste de chaine de caracteres, chaque élément est une ligne du fichier\n",
        "  \"\"\"\n",
        "  if fichier_existe(file):\n",
        "    f = open(file).readlines()\n",
        "    return f"
      ],
      "outputs": [],
      "execution_count": 3,
      "metadata": {
        "collapsed": true,
        "jupyter": {
          "source_hidden": false,
          "outputs_hidden": false
        },
        "nteract": {
          "transient": {
            "deleting": false
          }
        },
        "execution": {
          "iopub.status.busy": "2021-02-16T12:35:13.212Z",
          "iopub.execute_input": "2021-02-16T12:35:13.230Z",
          "iopub.status.idle": "2021-02-16T12:35:13.262Z",
          "shell.execute_reply": "2021-02-16T12:35:13.289Z"
        }
      }
    },
    {
      "cell_type": "code",
      "source": [
        "lire_fichier(\"requetes/alire.md\")"
      ],
      "outputs": [
        {
          "output_type": "execute_result",
          "execution_count": 4,
          "data": {
            "text/plain": "['req1.sql\\n',\n '#01.Quels sont les differents types de titres dans cette base de donnees ?\\n',\n 'SELECT\\n',\n 'DISTINCT(titleType)\\n',\n 'FROM title_basics\\n',\n '\\n',\n 'req2.sql\\n',\n '#02.Combien y a-t-il de titres dans cette base de donnees ?\\n',\n 'SELECT\\n',\n 'COUNT(primaryTitle)\\n',\n 'FROM title_basics\\n',\n '\\n',\n 'req3.sql\\n',\n '#03.En quelle annee est sortie le film The Godfather  ?\\n',\n 'SELECT startYear\\n',\n 'FROM title_basics\\n',\n 'WHERE originalTitle = \"The Godfather\"\\n',\n 'AND titleType = \"movie\"\\n',\n '\\n',\n 'req4.sql\\n',\n '#04.En quelle annee est sortie le premier film Superman ?\\n',\n 'SELECT\\n',\n 'MIN(startYear)\\n',\n 'FROM title_basics\\n',\n 'WHERE originalTitle = \"Superman\"\\n',\n 'AND titleType = \"movie\"\\n',\n '\\n',\n 'req5.sql\\n',\n '#05.Quel est le titre original du film  Les dents de la mer  ?\\n',\n 'SELECT originalTitle\\n',\n 'FROM title_basics\\n',\n 'JOIN title_akas \\n',\n 'ON titleId = tconst \\n',\n 'WHERE title = \"Les dents de la mer\"\\n',\n 'AND titleType = \"movie\"\\n',\n '\\n',\n 'req6.sql\\n',\n '#06.Quel est le metier d Olivier Nakache ?\\n',\n 'SELECT primaryProfession\\n',\n 'FROM name_basics\\n',\n 'WHERE primaryName = \"Olivier Nakache\"\\n',\n '\\n',\n 'req7.sql\\n',\n '#07.Quels sont les films d Olivier Nakache ?\\n',\n 'SELECT originalTitle\\n',\n 'FROM title_basics\\n',\n 'JOIN title_principals \\n',\n 'ON title_principals.tconst = title_basics.tconst \\n',\n 'JOIN name_basics \\n',\n 'ON name_basics.nconst = title_principals.nconst \\n',\n 'WHERE primaryName = \"Olivier Nakache\"\\n',\n 'AND titleType = \"movie\"\\n',\n '\\n',\n 'req8.sql\\n',\n '#08.Quel est le film ayant recueilli le plus de votes ?\\n',\n 'SELECT originalTitle\\n',\n 'FROM title_basics\\n',\n 'JOIN title_ratings \\n',\n 'ON title_ratings.tconst = title_basics.tconst \\n',\n 'WHERE titleType = \"movie\"\\n',\n 'ORDER BY numVotes \\n',\n 'DESC\\n',\n 'LIMIT 1\\n',\n '\\n',\n 'req9.sql\\n',\n '#09.Qui a ecrit le scenario du film Taxi sorti en 1998 ?\\n',\n 'SELECT primaryName\\n',\n 'FROM name_basics\\n',\n 'JOIN title_principals \\n',\n 'ON title_principals.nconst = name_basics.nconst \\n',\n 'JOIN title_basics \\n',\n 'ON title_basics.tconst = title_principals.tconst \\n',\n 'WHERE category = \"writer\"\\n',\n 'AND job = \"scenario\"\\n',\n 'AND originalTitle = \"Taxi\"\\n',\n 'AND startYear = 1998\\n',\n 'AND titleType = \"movie\"\\n',\n '\\n',\n 'req10.sql\\n',\n '#10.Quelles sont les noms et roles (category et job) des personnes intervenant dans la production du film Return of the Jedi ?\\n',\n 'SELECT primaryName, category, job \\n',\n 'FROM name_basics, title_principals, title_basics\\n',\n 'WHERE name_basics.nconst = title_principals.nconst \\n',\n 'AND title_principals.tconst = title_basics.tconst \\n',\n 'AND primaryTitle \\n',\n 'LIKE \"%Return of the Jedi%\"\\n',\n 'AND titleType = \"movie\"\\n',\n '\\n',\n 'req11.sql\\n',\n '#11.Quels sont les titres des films notes plus de 9 sur 10 avec plus de 10 000 votes ?\\n',\n 'SELECT originalTitle\\n',\n 'FROM title_basics\\n',\n 'JOIN title_ratings \\n',\n 'ON title_ratings.tconst = title_basics.tconst \\n',\n 'WHERE averageRating > 9\\n',\n 'AND numVotes > 10000\\n',\n 'AND titleType = \"movie\"\\n',\n '\\n',\n 'req12.sql\\n',\n '#12.Quelle sont les 5 comedies romantiques les mieux notees ?\\n',\n 'SELECT originalTitle\\n',\n 'FROM title_basics\\n',\n 'JOIN title_ratings \\n',\n 'ON title_ratings.tconst = title_basics.tconst \\n',\n 'WHERE genres \\n',\n 'LIKE \"%Romance%\"\\n',\n 'AND genres \\n',\n 'LIKE \"%Comedy%\"\\n',\n 'ORDER BY averageRating \\n',\n 'DESC\\n',\n 'LIMIT 5\\n',\n '\\n',\n 'req13.sql\\n',\n '#13.Quels sont les 10 films d animation ayant recu plus de 1000 votes les mieux notes ?\\n',\n 'SELECT originalTitle\\n',\n 'FROM title_basics\\n',\n 'JOIN title_ratings \\n',\n 'ON title_ratings.tconst = title_basics.tconst \\n',\n 'WHERE genres \\n',\n 'LIKE \"%Animation%\"\\n',\n 'AND numVotes > 1000\\n',\n 'AND titleType = \"movie\"\\n',\n 'ORDER BY averageRating \\n',\n 'DESC\\n',\n 'LIMIT 10\\n',\n '\\n',\n 'req14.sql\\n',\n '#14.Combien de films durent plus de 3 heures ?\\n',\n 'SELECT\\n',\n 'COUNT(originalTitle)\\n',\n 'FROM title_basics\\n',\n 'WHERE runtimeMinutes > 3 * 60\\n',\n 'AND titleType = \"movie\"\\n',\n '\\n',\n 'req15.sql\\n',\n '#15.Quelle est la duree moyenne d un film ?\\n',\n 'SELECT\\n',\n 'AVG(runtimeMinutes)\\n',\n 'FROM title_basics\\n',\n 'WHERE titleType = \"movie\"\\n',\n '\\n',\n 'req16.sql\\n',\n '#16.Quel est le film le plus long ?\\n',\n 'SELECT\\n',\n 'MAX(runtimeMinutes)\\n',\n 'FROM title_basics\\n',\n 'WHERE titleType = \"movie\"\\n',\n '\\n',\n 'req17.sql\\n',\n '#17.Quels sont les 5 films les plus longs ?\\n',\n 'SELECT originalTitle\\n',\n 'FROM title_basics\\n',\n 'WHERE titleType = \"movie\"\\n',\n 'ORDER BY runtimeMinutes \\n',\n 'DESC\\n',\n 'LIMIT 5\\n',\n '\\n',\n 'req18.sql\\n',\n '#18.Quels sont les titres des films les plus connus de Sean Connery ?\\n',\n 'SELECT originalTitle\\n',\n 'FROM title_basics\\n',\n 'JOIN name_titles \\n',\n 'ON knownForTitles = tconst \\n',\n 'JOIN name_basics \\n',\n 'ON name_basics.nconst = name_titles.nconst \\n',\n 'WHERE primaryName = \"Sean Connery\"\\n',\n 'AND titleType = \"movie\"\\n',\n '\\n',\n 'req19.sql\\n',\n '#19.Quels sont les acteurs ayant joue le role de James Bond, et dans quels films ?\\n',\n 'SELECT primaryName, originalTitle\\n',\n 'FROM name_basics, title_basics\\n',\n 'JOIN title_principals \\n',\n 'ON title_principals.tconst = title_basics.tconst \\n',\n 'WHERE title_principals.nconst = name_basics.nconst \\n',\n 'AND characters \\n',\n 'LIKE \"%James Bond%\"\\n',\n 'AND category = \"actor\"\\n',\n 'AND titleType = \"movie\"\\n',\n '\\n',\n 'req20.sql\\n',\n '#20.Quel sont les realisateurs ayant fait les cinq film les mieux notes ? Indiquer les noms des films correspondants.  \\n',\n 'SELECT primaryName, primaryTitle\\n',\n 'FROM name_basics, title_basics, name_titles, title_ratings\\n',\n 'WHERE name_basics.nconst = name_titles.nconst \\n',\n 'AND knownForTitles = title_basics.tconst \\n',\n 'AND title_basics.tconst = title_ratings.tconst \\n',\n 'AND titleType = \"movie\"\\n',\n 'AND primaryProfession \\n',\n 'LIKE \"%director%\"\\n',\n 'ORDER BY averageRating \\n',\n 'DESC\\n',\n 'LIMIT 5\\n',\n '\\n',\n 'req21.sql\\n',\n '#21.Quels sont les noms des episodes de Game of Thrones ?\\n',\n 'SELECT primaryTitle\\n',\n 'FROM title_basics\\n',\n 'JOIN title_episode \\n',\n 'ON title_episode.tconst = title_basics.tconst \\n',\n 'WHERE parenttconst \\n',\n 'IN(SELECT title_basics.tconst \\n',\n '\\tFROM title_basics\\n',\n '\\tWHERE primaryTitle = \"Game of Thrones\"\\n',\n '\\tAND titleType = \"tvSeries\")']"
          },
          "metadata": {}
        }
      ],
      "execution_count": 4,
      "metadata": {
        "collapsed": true,
        "jupyter": {
          "source_hidden": false,
          "outputs_hidden": false
        },
        "nteract": {
          "transient": {
            "deleting": false
          }
        },
        "execution": {
          "iopub.status.busy": "2021-02-16T12:35:13.949Z",
          "iopub.execute_input": "2021-02-16T12:35:13.974Z",
          "iopub.status.idle": "2021-02-16T12:35:14.029Z",
          "shell.execute_reply": "2021-02-16T12:35:14.060Z"
        }
      }
    },
    {
      "cell_type": "code",
      "source": [
        "import os\n",
        "os.listdir(\"requetes\")"
      ],
      "outputs": [
        {
          "output_type": "execute_result",
          "execution_count": 5,
          "data": {
            "text/plain": "['alire.md',\n 'req1.sql',\n 'req10.sql',\n 'req11.sql',\n 'req12.sql',\n 'req13.sql',\n 'req14.sql',\n 'req15.sql',\n 'req16.sql',\n 'req17.sql',\n 'req18.sql',\n 'req19.sql',\n 'req2.sql',\n 'req20.sql',\n 'req21.sql',\n 'req3.sql',\n 'req4.sql',\n 'req5.sql',\n 'req6.sql',\n 'req7.sql',\n 'req8.sql',\n 'req9.sql']"
          },
          "metadata": {}
        }
      ],
      "execution_count": 5,
      "metadata": {
        "collapsed": true,
        "jupyter": {
          "source_hidden": false,
          "outputs_hidden": false
        },
        "nteract": {
          "transient": {
            "deleting": false
          }
        },
        "execution": {
          "iopub.status.busy": "2021-02-16T12:35:16.113Z",
          "iopub.execute_input": "2021-02-16T12:35:16.185Z",
          "iopub.status.idle": "2021-02-16T12:35:16.264Z",
          "shell.execute_reply": "2021-02-16T12:35:16.296Z"
        }
      }
    },
    {
      "cell_type": "code",
      "source": [
        "import sqlite3\n",
        "\n",
        "def test_connexion(db):\n",
        "  \"\"\"\n",
        "  fonction permettant de savoir si une base de données peut-être connectées\n",
        "  parametres:\n",
        "             db, une chaine de caracteres avec le chemin d'accés à la base\n",
        "  renvoie un booléen\n",
        "  \"\"\"\n",
        "  try:\n",
        "    conn = sqlite3.connect(db)\n",
        "  except:\n",
        "    return False\n",
        "  \n",
        "  conn.close()\n",
        "  return True"
      ],
      "outputs": [],
      "execution_count": 6,
      "metadata": {
        "collapsed": true,
        "jupyter": {
          "source_hidden": false,
          "outputs_hidden": false
        },
        "nteract": {
          "transient": {
            "deleting": false
          }
        },
        "execution": {
          "iopub.status.busy": "2021-02-16T12:35:17.638Z",
          "iopub.execute_input": "2021-02-16T12:35:17.663Z",
          "iopub.status.idle": "2021-02-16T12:35:17.700Z",
          "shell.execute_reply": "2021-02-16T12:35:17.726Z"
        }
      }
    },
    {
      "cell_type": "code",
      "source": [
        "print(test_connexion(\"imdb.db\"))"
      ],
      "outputs": [
        {
          "output_type": "stream",
          "name": "stdout",
          "text": [
            "True\n"
          ]
        }
      ],
      "execution_count": 7,
      "metadata": {
        "collapsed": true,
        "jupyter": {
          "source_hidden": false,
          "outputs_hidden": false
        },
        "nteract": {
          "transient": {
            "deleting": false
          }
        },
        "execution": {
          "iopub.status.busy": "2021-02-16T12:35:18.697Z",
          "iopub.execute_input": "2021-02-16T12:35:18.717Z",
          "iopub.status.idle": "2021-02-16T12:35:18.760Z",
          "shell.execute_reply": "2021-02-16T12:35:18.792Z"
        }
      }
    },
    {
      "cell_type": "code",
      "source": [
        "import sqlite3\n",
        "\n",
        "def connexion(db):\n",
        "  \"\"\"\n",
        "  fonction permettant de se connecter à une base de données\n",
        "  parametres:\n",
        "             db, une chaine de caracteres contenant le chemin d'accés à la base\n",
        "  renvoie la connexion à la base\n",
        "  \"\"\"\n",
        "  if test_connexion(db):\n",
        "    conn = sqlite3.connect(db)\n",
        "    return conn"
      ],
      "outputs": [],
      "execution_count": 8,
      "metadata": {
        "collapsed": true,
        "jupyter": {
          "source_hidden": false,
          "outputs_hidden": false
        },
        "nteract": {
          "transient": {
            "deleting": false
          }
        },
        "execution": {
          "iopub.status.busy": "2021-02-16T12:35:19.636Z",
          "iopub.execute_input": "2021-02-16T12:35:19.665Z",
          "iopub.status.idle": "2021-02-16T12:35:19.702Z",
          "shell.execute_reply": "2021-02-16T12:35:19.727Z"
        }
      }
    },
    {
      "cell_type": "code",
      "source": [
        "import sqlite3\n",
        "\n",
        "def database_connexion(db_file):\n",
        "  connexion = None\n",
        "  try:\n",
        "    connexion = sqlite3.connect(db_file)\n",
        "  except Error as e:\n",
        "    return e\n",
        "  \n",
        "  return connexion"
      ],
      "outputs": [],
      "execution_count": 9,
      "metadata": {
        "collapsed": true,
        "jupyter": {
          "source_hidden": false,
          "outputs_hidden": false
        },
        "nteract": {
          "transient": {
            "deleting": false
          }
        },
        "execution": {
          "iopub.status.busy": "2021-02-16T12:35:20.569Z",
          "iopub.execute_input": "2021-02-16T12:35:20.600Z",
          "iopub.status.idle": "2021-02-16T12:35:20.638Z",
          "shell.execute_reply": "2021-02-16T12:35:20.660Z"
        }
      }
    },
    {
      "cell_type": "code",
      "source": [
        "import sqlite3\n",
        "\n",
        "def database_deconnexion(connexion):\n",
        "  connexion.close()"
      ],
      "outputs": [],
      "execution_count": 10,
      "metadata": {
        "collapsed": true,
        "jupyter": {
          "source_hidden": false,
          "outputs_hidden": false
        },
        "nteract": {
          "transient": {
            "deleting": false
          }
        },
        "execution": {
          "iopub.status.busy": "2021-02-16T12:35:21.403Z",
          "iopub.execute_input": "2021-02-16T12:35:21.426Z",
          "iopub.status.idle": "2021-02-16T12:35:21.460Z",
          "shell.execute_reply": "2021-02-16T12:35:21.483Z"
        }
      }
    },
    {
      "cell_type": "code",
      "source": [
        "import sqlite3\n",
        "\n",
        "def execute_sql(connexion, sql):\n",
        "  \"\"\"\n",
        "  fonction pemettant l'exécution de SQL dans une database\n",
        "  parametres:\n",
        "             connexion, une connexion sqlite3 vers la database voulut\n",
        "             sql, une chaine de caracteres avec la requete voulut\n",
        "  renvoie le résultat de la requete\n",
        "  \"\"\"\n",
        "  cur = connexion.cursor()\n",
        "  cur.execute(sql)\n",
        "  rows = cur.fetchall()\n",
        "  return rows\n",
        "    \n",
        "run_sql = execute_sql"
      ],
      "outputs": [],
      "execution_count": 11,
      "metadata": {
        "collapsed": true,
        "jupyter": {
          "source_hidden": false,
          "outputs_hidden": false
        },
        "nteract": {
          "transient": {
            "deleting": false
          }
        },
        "execution": {
          "iopub.status.busy": "2021-02-16T12:35:22.293Z",
          "iopub.execute_input": "2021-02-16T12:35:22.318Z",
          "iopub.status.idle": "2021-02-16T12:35:22.380Z",
          "shell.execute_reply": "2021-02-16T12:35:22.405Z"
        }
      }
    },
    {
      "cell_type": "code",
      "source": [
        "conn = database_connexion(\"imdb.db\")\n",
        "sql = \"SELECT DISTINCT titleType FROM title_basics LIMIT 5\"\n",
        "run_sql(conn, sql)\n",
        "database_deconnexion(conn)"
      ],
      "outputs": [],
      "execution_count": 12,
      "metadata": {
        "collapsed": true,
        "jupyter": {
          "source_hidden": false,
          "outputs_hidden": false
        },
        "nteract": {
          "transient": {
            "deleting": false
          }
        },
        "execution": {
          "iopub.status.busy": "2021-02-16T12:35:23.230Z",
          "iopub.execute_input": "2021-02-16T12:35:23.251Z",
          "iopub.status.idle": "2021-02-16T12:35:23.285Z",
          "shell.execute_reply": "2021-02-16T12:35:23.332Z"
        }
      }
    },
    {
      "cell_type": "code",
      "source": [
        "import sqlite3\n",
        "\n",
        "def execute_sql_file(path, file, db):\n",
        "  \"\"\"\n",
        "  fonction permettant d'exécuter une requete sql dans une base de données, ici, on lit le fichier puis on l'éxécute\n",
        "  parametres:\n",
        "             path, une chaine de caracteres contenant le chemin d'accès au fichier avec le fichier sql\n",
        "             file, une chaine de caracteres contenant le nom du fichier à exécuter\n",
        "             db, une chaine de caracteres avec le chemin entier vers la base de données dans laquelle exécuter la requete\n",
        "  renvoie les résultats de la requetes sous forme de liste\n",
        "  \"\"\"\n",
        "  connexion = database_connexion(db)\n",
        "  sql_liste = lire_fichier(path + \"/\" + file)\n",
        "  sql = \"\"\n",
        "  for i in range(len(sql_liste) -1):\n",
        "    sql += sql_liste[i][:-1] + \" \"\n",
        "  sql += sql_liste[-1]\n",
        "  result = run_sql(connexion, sql)\n",
        "  database_deconnexion(connexion)\n",
        "  return result"
      ],
      "outputs": [],
      "execution_count": 13,
      "metadata": {
        "collapsed": true,
        "jupyter": {
          "source_hidden": false,
          "outputs_hidden": false
        },
        "nteract": {
          "transient": {
            "deleting": false
          }
        },
        "execution": {
          "shell.execute_reply": "2021-02-16T12:35:24.735Z",
          "iopub.status.busy": "2021-02-16T12:35:24.641Z",
          "iopub.execute_input": "2021-02-16T12:35:24.662Z",
          "iopub.status.idle": "2021-02-16T12:35:24.707Z"
        }
      }
    },
    {
      "cell_type": "code",
      "source": [
        "result = execute_sql_file(\"requetes\", \"req3.sql\", \"imdb.db\")\n",
        "for i in range(1, 22):\n",
        "  print(\"------------------------------------\")\n",
        "  print(\"requete\", i, \":\\n\", execute_sql_file(\"requetes\", \"req\" + str(i) + \".sql\", \"imdb.db\"))"
      ],
      "outputs": [
        {
          "output_type": "stream",
          "name": "stdout",
          "text": [
            "------------------------------------\n",
            "requete 1 :\n",
            " [('short',), ('movie',), ('tvSeries',), ('tvMiniSeries',), ('tvMovie',), ('tvEpisode',), ('tvShort',), ('video',), ('tvSpecial',), ('videoGame',)]\n",
            "------------------------------------\n",
            "requete 2 :\n",
            " [(69676,)]\n",
            "------------------------------------\n",
            "requete 3 :\n",
            " [(1972,)]\n",
            "------------------------------------\n",
            "requete 4 :\n",
            " [(1948,)]\n",
            "------------------------------------\n",
            "requete 5 :\n",
            " [('Jaws',)]\n",
            "------------------------------------\n",
            "requete 6 :\n",
            " [('writer,director,producer',)]\n",
            "------------------------------------\n",
            "requete 7 :\n",
            " [('Nos jours heureux',), ('Intouchables',), ('The Upside',), ('Samba',), ('Le sens de la fête',), ('Hors normes',)]\n",
            "------------------------------------\n",
            "requete 8 :\n",
            " [('The Shawshank Redemption',)]\n",
            "------------------------------------\n",
            "requete 9 :\n",
            " [('Luc Besson',)]\n",
            "------------------------------------\n",
            "requete 10 :\n",
            " [('John Williams', 'composer', None), ('Mark Hamill', 'actor', None), ('Harrison Ford', 'actor', None), ('Carrie Fisher', 'actress', None), ('Billy Dee Williams', 'actor', None), ('Richard Marquand', 'director', None), ('Lawrence Kasdan', 'writer', 'screenplay by'), ('George Lucas', 'writer', 'screenplay by'), ('Howard G. Kazanjian', 'producer', 'producer'), ('Rick McCallum', 'producer', 'producer')]\n",
            "------------------------------------\n",
            "requete 11 :\n",
            " [('The Godfather',), ('The Shawshank Redemption',), ('Hababam Sinifi',), ('CM101MMXI Fundamentals',), ('Aynabaji',)]\n",
            "------------------------------------\n",
            "requete 12 :\n",
            " [('Super Bowl Sunday',), ('The Last One',), ('The One Where Everybody Finds Out',), ('The Cabin',), ('The Stockholm Syndrome',)]\n",
            "------------------------------------\n",
            "requete 13 :\n",
            " [('30 Years and 15 Minutes',), ('Ramayana: The Legend of Prince Rama',), ('Sen to Chihiro no kamikakushi',), ('Flåklypa Grand Prix',), ('Hotaru no haka',), ('The Lion King',), ('Primal: Tales of Savagery',), ('Ostrov sokrovishch. Sokrovishcha kapitana Flinta',), ('Mononoke-hime',), ('Ostrov Sokrovishch',)]\n",
            "------------------------------------\n",
            "requete 14 :\n",
            " [(289,)]\n",
            "------------------------------------\n",
            "requete 15 :\n",
            " [(106.67878701796748,)]\n",
            "------------------------------------\n",
            "requete 16 :\n",
            " [(808,)]\n",
            "------------------------------------\n",
            "requete 17 :\n",
            " [('La flor',), ('Out 1, noli me tangere',), ('Shoah',), ('Tiexi qu',), ('O.J.: Made in America',)]\n",
            "------------------------------------\n",
            "requete 18 :\n",
            " [('Goldfinger',), ('The Rock',), ('The Untouchables',), ('Thunderball',)]\n",
            "------------------------------------\n",
            "requete 19 :\n",
            " [('Sean Connery', 'Dr. No'), ('Sean Connery', 'From Russia with Love'), ('Sean Connery', 'Goldfinger'), ('Sean Connery', 'Thunderball'), ('David Niven', 'Casino Royale'), ('Peter Sellers', 'Casino Royale'), ('Sean Connery', 'You Only Live Twice'), ('George Lazenby', \"On Her Majesty's Secret Service\"), ('Sean Connery', 'Diamonds Are Forever'), ('Roger Moore', 'Live and Let Die'), ('Roger Moore', 'The Man with the Golden Gun'), ('Roger Moore', 'The Spy Who Loved Me'), ('Roger Moore', 'Moonraker'), ('Roger Moore', 'For Your Eyes Only'), ('Sean Connery', 'Never Say Never Again'), ('Roger Moore', 'Octopussy'), ('Roger Moore', 'A View to a Kill'), ('Timothy Dalton', 'The Living Daylights'), ('Timothy Dalton', 'Licence to Kill'), ('Pierce Brosnan', 'GoldenEye'), ('Pierce Brosnan', 'Tomorrow Never Dies'), ('Pierce Brosnan', 'The World Is Not Enough'), ('Pierce Brosnan', 'Die Another Day'), ('Eric Tsang', 'Gam gai'), ('Daniel Craig', 'Casino Royale'), ('Daniel Craig', 'Quantum of Solace'), ('Daniel Craig', 'Skyfall'), ('Daniel Craig', 'Spectre')]\n",
            "------------------------------------\n",
            "requete 20 :\n",
            " [('Greg Holt', 'The Last Regret'), ('Landon Sheetz', 'Red'), ('Joey Loboda', 'Red'), ('Maureen Dreher', 'Hopeful Notes'), ('Dennis Janiske', 'Hopeful Notes')]\n",
            "------------------------------------\n",
            "requete 21 :\n",
            " [('Winter Is Coming',), ('The Kingsroad',), ('Lord Snow',), ('Cripples, Bastards, and Broken Things',), ('The Wolf and the Lion',), ('A Golden Crown',), ('You Win or You Die',), ('The Pointy End',), ('Fire and Blood',), ('Baelor',), ('The North Remembers',), ('The Night Lands',), ('Garden of Bones',), ('What Is Dead May Never Die',), ('The Ghost of Harrenhal',), ('Blackwater',), ('The Old Gods and the New',), ('A Man Without Honor',), ('The Prince of Winterfell',), ('Valar Morghulis',), ('Dark Wings, Dark Words',), ('Valar Dohaeris',), ('The Rains of Castamere',), ('Kissed by Fire',), ('Mhysa',), ('And Now His Watch Is Ended',), ('Walk of Punishment',), ('Second Sons',), ('The Climb',), ('The Bear and the Maiden Fair',), ('Two Swords',), ('The Lion and the Rose',), ('Breaker of Chains',), ('Oathkeeper',), ('The Mountain and the Viper',), ('First of His Name',), ('The Watchers on the Wall',), ('The Children',), ('Mockingbird',), ('The Laws of Gods and Men',), ('The Wars to Come',), ('The Red Woman',), ('The House of Black and White',), ('The Dance of Dragons',), ('High Sparrow',), ('Sons of the Harpy',), ('Kill the Boy',), ('Unbowed, Unbent, Unbroken',), ('The Gift',), ('Hardhome',), (\"Mother's Mercy\",), ('Home',), ('Oathbreaker',), ('Book of the Stranger',), ('The Door',), ('Blood of My Blood',), ('The Broken Man',), ('No One',), ('Battle of the Bastards',), ('The Winds of Winter',), ('Dragonstone',), ('Stormborn',), (\"The Queen's Justice\",), ('The Spoils of War',), ('Eastwatch',), ('Beyond the Wall',), ('The Dragon and the Wolf',), ('Winterfell',), ('A Knight of the Seven Kingdoms',), ('The Long Night',), ('The Last of the Starks',), ('The Bells',), ('The Iron Throne',)]\n"
          ]
        }
      ],
      "execution_count": 14,
      "metadata": {
        "collapsed": true,
        "jupyter": {
          "source_hidden": false,
          "outputs_hidden": false
        },
        "nteract": {
          "transient": {
            "deleting": false
          }
        },
        "execution": {
          "iopub.status.busy": "2021-02-16T12:35:25.891Z",
          "iopub.execute_input": "2021-02-16T12:35:25.918Z",
          "iopub.status.idle": "2021-02-16T12:37:31.507Z",
          "shell.execute_reply": "2021-02-16T12:37:31.622Z"
        }
      }
    },
    {
      "cell_type": "code",
      "source": [],
      "outputs": [],
      "execution_count": null,
      "metadata": {
        "collapsed": true,
        "jupyter": {
          "source_hidden": false,
          "outputs_hidden": false
        },
        "nteract": {
          "transient": {
            "deleting": false
          }
        }
      }
    },
    {
      "cell_type": "code",
      "source": [],
      "outputs": [],
      "execution_count": null,
      "metadata": {
        "collapsed": true,
        "jupyter": {
          "source_hidden": false,
          "outputs_hidden": false
        },
        "nteract": {
          "transient": {
            "deleting": false
          }
        }
      }
    }
  ],
  "metadata": {
    "kernel_info": {
      "name": "python3"
    },
    "language_info": {
      "name": "python",
      "version": "3.8.5",
      "mimetype": "text/x-python",
      "codemirror_mode": {
        "name": "ipython",
        "version": 3
      },
      "pygments_lexer": "ipython3",
      "nbconvert_exporter": "python",
      "file_extension": ".py"
    },
    "kernelspec": {
      "argv": [
        "C:\\Winpython\\python-3.8.5.amd64\\python.exe",
        "-m",
        "ipykernel_launcher",
        "-f",
        "{connection_file}"
      ],
      "display_name": "Python 3",
      "language": "python",
      "name": "python3"
    },
    "nteract": {
      "version": "0.28.0"
    }
  },
  "nbformat": 4,
  "nbformat_minor": 0
}